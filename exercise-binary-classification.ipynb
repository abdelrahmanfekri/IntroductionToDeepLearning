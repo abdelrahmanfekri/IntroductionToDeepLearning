{
 "cells": [
  {
   "cell_type": "markdown",
   "id": "7cb49204",
   "metadata": {
    "papermill": {
     "duration": 0.006475,
     "end_time": "2023-02-24T09:01:55.529866",
     "exception": false,
     "start_time": "2023-02-24T09:01:55.523391",
     "status": "completed"
    },
    "tags": []
   },
   "source": [
    "**This notebook is an exercise in the [Intro to Deep Learning](https://www.kaggle.com/learn/intro-to-deep-learning) course.  You can reference the tutorial at [this link](https://www.kaggle.com/ryanholbrook/binary-classification).**\n",
    "\n",
    "---\n"
   ]
  },
  {
   "cell_type": "markdown",
   "id": "a3e73e0a",
   "metadata": {
    "papermill": {
     "duration": 0.003238,
     "end_time": "2023-02-24T09:01:55.539534",
     "exception": false,
     "start_time": "2023-02-24T09:01:55.536296",
     "status": "completed"
    },
    "tags": []
   },
   "source": [
    "# Introduction #\n",
    "\n",
    "In this exercise, you'll build a model to predict hotel cancellations with a binary classifier."
   ]
  },
  {
   "cell_type": "code",
   "execution_count": 1,
   "id": "e3fef124",
   "metadata": {
    "execution": {
     "iopub.execute_input": "2023-02-24T09:01:55.548387Z",
     "iopub.status.busy": "2023-02-24T09:01:55.547878Z",
     "iopub.status.idle": "2023-02-24T09:01:55.583868Z",
     "shell.execute_reply": "2023-02-24T09:01:55.582980Z"
    },
    "lines_to_next_cell": 0,
    "papermill": {
     "duration": 0.043218,
     "end_time": "2023-02-24T09:01:55.586207",
     "exception": false,
     "start_time": "2023-02-24T09:01:55.542989",
     "status": "completed"
    },
    "tags": []
   },
   "outputs": [],
   "source": [
    "# Setup plotting\n",
    "import matplotlib.pyplot as plt\n",
    "plt.style.use('seaborn-whitegrid')\n",
    "# Set Matplotlib defaults\n",
    "plt.rc('figure', autolayout=True)\n",
    "plt.rc('axes', labelweight='bold', labelsize='large',\n",
    "       titleweight='bold', titlesize=18, titlepad=10)\n",
    "plt.rc('animation', html='html5')\n",
    "\n",
    "# Setup feedback system\n",
    "from learntools.core import binder\n",
    "binder.bind(globals())\n",
    "from learntools.deep_learning_intro.ex6 import *"
   ]
  },
  {
   "cell_type": "markdown",
   "id": "a37bb1f1",
   "metadata": {
    "papermill": {
     "duration": 0.003203,
     "end_time": "2023-02-24T09:01:55.593019",
     "exception": false,
     "start_time": "2023-02-24T09:01:55.589816",
     "status": "completed"
    },
    "tags": []
   },
   "source": [
    "First, load the *Hotel Cancellations* dataset."
   ]
  },
  {
   "cell_type": "code",
   "execution_count": 2,
   "id": "2aa329db",
   "metadata": {
    "execution": {
     "iopub.execute_input": "2023-02-24T09:01:55.601140Z",
     "iopub.status.busy": "2023-02-24T09:01:55.600605Z",
     "iopub.status.idle": "2023-02-24T09:01:57.788181Z",
     "shell.execute_reply": "2023-02-24T09:01:57.787181Z"
    },
    "lines_to_next_cell": 2,
    "papermill": {
     "duration": 2.194257,
     "end_time": "2023-02-24T09:01:57.790642",
     "exception": false,
     "start_time": "2023-02-24T09:01:55.596385",
     "status": "completed"
    },
    "tags": []
   },
   "outputs": [],
   "source": [
    "import pandas as pd\n",
    "\n",
    "from sklearn.model_selection import train_test_split\n",
    "from sklearn.preprocessing import StandardScaler, OneHotEncoder\n",
    "from sklearn.impute import SimpleImputer\n",
    "from sklearn.pipeline import make_pipeline\n",
    "from sklearn.compose import make_column_transformer\n",
    "\n",
    "hotel = pd.read_csv('../input/dl-course-data/hotel.csv')\n",
    "\n",
    "X = hotel.copy()\n",
    "y = X.pop('is_canceled')\n",
    "\n",
    "X['arrival_date_month'] = \\\n",
    "    X['arrival_date_month'].map(\n",
    "        {'January':1, 'February': 2, 'March':3,\n",
    "         'April':4, 'May':5, 'June':6, 'July':7,\n",
    "         'August':8, 'September':9, 'October':10,\n",
    "         'November':11, 'December':12}\n",
    "    )\n",
    "\n",
    "features_num = [\n",
    "    \"lead_time\", \"arrival_date_week_number\",\n",
    "    \"arrival_date_day_of_month\", \"stays_in_weekend_nights\",\n",
    "    \"stays_in_week_nights\", \"adults\", \"children\", \"babies\",\n",
    "    \"is_repeated_guest\", \"previous_cancellations\",\n",
    "    \"previous_bookings_not_canceled\", \"required_car_parking_spaces\",\n",
    "    \"total_of_special_requests\", \"adr\",\n",
    "]\n",
    "features_cat = [\n",
    "    \"hotel\", \"arrival_date_month\", \"meal\",\n",
    "    \"market_segment\", \"distribution_channel\",\n",
    "    \"reserved_room_type\", \"deposit_type\", \"customer_type\",\n",
    "]\n",
    "\n",
    "transformer_num = make_pipeline(\n",
    "    SimpleImputer(strategy=\"constant\"), # there are a few missing values\n",
    "    StandardScaler(),\n",
    ")\n",
    "transformer_cat = make_pipeline(\n",
    "    SimpleImputer(strategy=\"constant\", fill_value=\"NA\"),\n",
    "    OneHotEncoder(handle_unknown='ignore'),\n",
    ")\n",
    "\n",
    "preprocessor = make_column_transformer(\n",
    "    (transformer_num, features_num),\n",
    "    (transformer_cat, features_cat),\n",
    ")\n",
    "\n",
    "# stratify - make sure classes are evenlly represented across splits\n",
    "X_train, X_valid, y_train, y_valid = \\\n",
    "train_test_split(X, y, stratify=y, train_size=0.75)\n",
    "\n",
    "X_train = preprocessor.fit_transform(X_train)\n",
    "X_valid = preprocessor.transform(X_valid)\n",
    "\n",
    "input_shape = [X_train.shape[1]]"
   ]
  },
  {
   "cell_type": "markdown",
   "id": "4e1ee977",
   "metadata": {
    "papermill": {
     "duration": 0.00364,
     "end_time": "2023-02-24T09:01:57.798062",
     "exception": false,
     "start_time": "2023-02-24T09:01:57.794422",
     "status": "completed"
    },
    "tags": []
   },
   "source": [
    "# 1) Define Model #\n",
    "\n",
    "The model we'll use this time will have both batch normalization and dropout layers. To ease reading we've broken the diagram into blocks, but you can define it layer by layer as usual.\n",
    "\n",
    "Define a model with an architecture given by this diagram:\n",
    "\n",
    "<figure style=\"padding: 1em;\">\n",
    "<img src=\"https://i.imgur.com/V04o59Z.png\" width=\"400\" alt=\"Diagram of network architecture: BatchNorm, Dense, BatchNorm, Dropout, Dense, BatchNorm, Dropout, Dense.\">\n",
    "<figcaption style=\"textalign: center; font-style: italic\"><center>Diagram of a binary classifier.</center></figcaption>\n",
    "</figure>\n"
   ]
  },
  {
   "cell_type": "code",
   "execution_count": 3,
   "id": "ea92591a",
   "metadata": {
    "execution": {
     "iopub.execute_input": "2023-02-24T09:01:57.807523Z",
     "iopub.status.busy": "2023-02-24T09:01:57.806035Z",
     "iopub.status.idle": "2023-02-24T09:01:57.811541Z",
     "shell.execute_reply": "2023-02-24T09:01:57.810710Z"
    },
    "papermill": {
     "duration": 0.01186,
     "end_time": "2023-02-24T09:01:57.813324",
     "exception": false,
     "start_time": "2023-02-24T09:01:57.801464",
     "status": "completed"
    },
    "tags": []
   },
   "outputs": [],
   "source": [
    "import warnings\n",
    "warnings.filterwarnings('ignore')"
   ]
  },
  {
   "cell_type": "code",
   "execution_count": 4,
   "id": "19725211",
   "metadata": {
    "execution": {
     "iopub.execute_input": "2023-02-24T09:01:57.822474Z",
     "iopub.status.busy": "2023-02-24T09:01:57.821101Z",
     "iopub.status.idle": "2023-02-24T09:02:06.704026Z",
     "shell.execute_reply": "2023-02-24T09:02:06.703214Z"
    },
    "lines_to_next_cell": 2,
    "papermill": {
     "duration": 8.905101,
     "end_time": "2023-02-24T09:02:06.721920",
     "exception": false,
     "start_time": "2023-02-24T09:01:57.816819",
     "status": "completed"
    },
    "tags": []
   },
   "outputs": [
    {
     "data": {
      "application/javascript": [
       "parent.postMessage({\"jupyterEvent\": \"custom.exercise_interaction\", \"data\": {\"outcomeType\": 1, \"valueTowardsCompletion\": 0.3333333333333333, \"interactionType\": 1, \"questionType\": 2, \"questionId\": \"1_Q1\", \"learnToolsVersion\": \"0.3.4\", \"failureMessage\": \"\", \"exceptionClass\": \"\", \"trace\": \"\"}}, \"*\")"
      ],
      "text/plain": [
       "<IPython.core.display.Javascript object>"
      ]
     },
     "metadata": {},
     "output_type": "display_data"
    },
    {
     "data": {
      "text/markdown": [
       "<span style=\"color:#33cc33\">Correct</span>"
      ],
      "text/plain": [
       "Correct"
      ]
     },
     "metadata": {},
     "output_type": "display_data"
    },
    {
     "name": "stdout",
     "output_type": "stream",
     "text": [
      "Model: \"sequential\"\n",
      "_________________________________________________________________\n",
      " Layer (type)                Output Shape              Param #   \n",
      "=================================================================\n",
      " batch_normalization (BatchN  (None, 62)               248       \n",
      " ormalization)                                                   \n",
      "                                                                 \n",
      " dense (Dense)               (None, 256)               16128     \n",
      "                                                                 \n",
      " batch_normalization_1 (Batc  (None, 256)              1024      \n",
      " hNormalization)                                                 \n",
      "                                                                 \n",
      " dropout (Dropout)           (None, 256)               0         \n",
      "                                                                 \n",
      " dense_1 (Dense)             (None, 256)               65792     \n",
      "                                                                 \n",
      " batch_normalization_2 (Batc  (None, 256)              1024      \n",
      " hNormalization)                                                 \n",
      "                                                                 \n",
      " dropout_1 (Dropout)         (None, 256)               0         \n",
      "                                                                 \n",
      " dense_2 (Dense)             (None, 1)                 257       \n",
      "                                                                 \n",
      "=================================================================\n",
      "Total params: 84,473\n",
      "Trainable params: 83,325\n",
      "Non-trainable params: 1,148\n",
      "_________________________________________________________________\n"
     ]
    }
   ],
   "source": [
    "from tensorflow import keras\n",
    "from tensorflow.keras import layers\n",
    "\n",
    "# YOUR CODE HERE: define the model given in the diagram\n",
    "model = keras.Sequential(\n",
    "    [layers.BatchNormalization(input_shape = input_shape),\n",
    "    layers.Dense(256,activation = 'relu'),\n",
    "    layers.BatchNormalization(),\n",
    "    layers.Dropout(0.3),\n",
    "    layers.Dense(256,activation = 'relu'),\n",
    "    layers.BatchNormalization(),\n",
    "    layers.Dropout(0.3),\n",
    "    layers.Dense(1,activation = 'sigmoid')]\n",
    ")\n",
    "\n",
    "# Check your answer\n",
    "q_1.check()\n",
    "model.summary()"
   ]
  },
  {
   "cell_type": "markdown",
   "id": "88ae09ed",
   "metadata": {
    "papermill": {
     "duration": 0.004845,
     "end_time": "2023-02-24T09:02:06.732095",
     "exception": false,
     "start_time": "2023-02-24T09:02:06.727250",
     "status": "completed"
    },
    "tags": []
   },
   "source": [
    "# 2) Add Optimizer, Loss, and Metric #\n",
    "\n",
    "Now compile the model with the Adam optimizer and binary versions of the cross-entropy loss and accuracy metric."
   ]
  },
  {
   "cell_type": "code",
   "execution_count": 5,
   "id": "87e8e54d",
   "metadata": {
    "execution": {
     "iopub.execute_input": "2023-02-24T09:02:06.743284Z",
     "iopub.status.busy": "2023-02-24T09:02:06.742996Z",
     "iopub.status.idle": "2023-02-24T09:02:06.758956Z",
     "shell.execute_reply": "2023-02-24T09:02:06.757917Z"
    },
    "lines_to_next_cell": 0,
    "papermill": {
     "duration": 0.024559,
     "end_time": "2023-02-24T09:02:06.761714",
     "exception": false,
     "start_time": "2023-02-24T09:02:06.737155",
     "status": "completed"
    },
    "tags": []
   },
   "outputs": [
    {
     "data": {
      "application/javascript": [
       "parent.postMessage({\"jupyterEvent\": \"custom.exercise_interaction\", \"data\": {\"outcomeType\": 1, \"valueTowardsCompletion\": 0.3333333333333333, \"interactionType\": 1, \"questionType\": 2, \"questionId\": \"2_Q2\", \"learnToolsVersion\": \"0.3.4\", \"failureMessage\": \"\", \"exceptionClass\": \"\", \"trace\": \"\"}}, \"*\")"
      ],
      "text/plain": [
       "<IPython.core.display.Javascript object>"
      ]
     },
     "metadata": {},
     "output_type": "display_data"
    },
    {
     "data": {
      "text/markdown": [
       "<span style=\"color:#33cc33\">Correct</span>"
      ],
      "text/plain": [
       "Correct"
      ]
     },
     "metadata": {},
     "output_type": "display_data"
    }
   ],
   "source": [
    "# YOUR CODE HERE\n",
    "model.compile(\n",
    "    optimizer = 'adam', loss = 'binary_crossentropy',metrics = ['binary_accuracy']\n",
    ")\n",
    "\n",
    "# Check your answer\n",
    "q_2.check()"
   ]
  },
  {
   "cell_type": "code",
   "execution_count": 6,
   "id": "76ad4383",
   "metadata": {
    "execution": {
     "iopub.execute_input": "2023-02-24T09:02:06.773037Z",
     "iopub.status.busy": "2023-02-24T09:02:06.772770Z",
     "iopub.status.idle": "2023-02-24T09:02:06.776327Z",
     "shell.execute_reply": "2023-02-24T09:02:06.775435Z"
    },
    "lines_to_next_cell": 0,
    "papermill": {
     "duration": 0.011493,
     "end_time": "2023-02-24T09:02:06.778308",
     "exception": false,
     "start_time": "2023-02-24T09:02:06.766815",
     "status": "completed"
    },
    "tags": []
   },
   "outputs": [],
   "source": [
    "# Lines below will give you a hint or solution code\n",
    "#q_2.hint()\n",
    "#q_2.solution()"
   ]
  },
  {
   "cell_type": "markdown",
   "id": "fd394944",
   "metadata": {
    "papermill": {
     "duration": 0.004981,
     "end_time": "2023-02-24T09:02:06.788350",
     "exception": false,
     "start_time": "2023-02-24T09:02:06.783369",
     "status": "completed"
    },
    "tags": []
   },
   "source": [
    "Finally, run this cell to train the model and view the learning curves. It may run for around 60 to 70 epochs, which could take a minute or two."
   ]
  },
  {
   "cell_type": "code",
   "execution_count": 7,
   "id": "ee508b8a",
   "metadata": {
    "execution": {
     "iopub.execute_input": "2023-02-24T09:02:06.799879Z",
     "iopub.status.busy": "2023-02-24T09:02:06.799604Z",
     "iopub.status.idle": "2023-02-24T09:04:15.100662Z",
     "shell.execute_reply": "2023-02-24T09:04:15.099749Z"
    },
    "papermill": {
     "duration": 128.309777,
     "end_time": "2023-02-24T09:04:15.103318",
     "exception": false,
     "start_time": "2023-02-24T09:02:06.793541",
     "status": "completed"
    },
    "tags": []
   },
   "outputs": [
    {
     "name": "stdout",
     "output_type": "stream",
     "text": [
      "Epoch 1/1000\n",
      "1791/1791 [==============================] - 12s 5ms/step - loss: 0.4477 - binary_accuracy: 0.7885 - val_loss: 0.4111 - val_binary_accuracy: 0.8113\n",
      "Epoch 2/1000\n",
      "1791/1791 [==============================] - 9s 5ms/step - loss: 0.4148 - binary_accuracy: 0.8052 - val_loss: 0.4062 - val_binary_accuracy: 0.8160\n",
      "Epoch 3/1000\n",
      "1791/1791 [==============================] - 9s 5ms/step - loss: 0.4071 - binary_accuracy: 0.8098 - val_loss: 0.3976 - val_binary_accuracy: 0.8175\n",
      "Epoch 4/1000\n",
      "1791/1791 [==============================] - 9s 5ms/step - loss: 0.4012 - binary_accuracy: 0.8125 - val_loss: 0.3893 - val_binary_accuracy: 0.8249\n",
      "Epoch 5/1000\n",
      "1791/1791 [==============================] - 10s 6ms/step - loss: 0.3959 - binary_accuracy: 0.8148 - val_loss: 0.3847 - val_binary_accuracy: 0.8252\n",
      "Epoch 6/1000\n",
      "1791/1791 [==============================] - 9s 5ms/step - loss: 0.3921 - binary_accuracy: 0.8177 - val_loss: 0.3811 - val_binary_accuracy: 0.8294\n",
      "Epoch 7/1000\n",
      "1791/1791 [==============================] - 9s 5ms/step - loss: 0.3879 - binary_accuracy: 0.8190 - val_loss: 0.3747 - val_binary_accuracy: 0.8312\n",
      "Epoch 8/1000\n",
      "1791/1791 [==============================] - 9s 5ms/step - loss: 0.3857 - binary_accuracy: 0.8204 - val_loss: 0.3793 - val_binary_accuracy: 0.8300\n",
      "Epoch 9/1000\n",
      "1791/1791 [==============================] - 9s 5ms/step - loss: 0.3830 - binary_accuracy: 0.8225 - val_loss: 0.3703 - val_binary_accuracy: 0.8346\n",
      "Epoch 10/1000\n",
      "1791/1791 [==============================] - 9s 5ms/step - loss: 0.3803 - binary_accuracy: 0.8237 - val_loss: 0.3732 - val_binary_accuracy: 0.8313\n",
      "Epoch 11/1000\n",
      "1791/1791 [==============================] - 9s 5ms/step - loss: 0.3791 - binary_accuracy: 0.8235 - val_loss: 0.3697 - val_binary_accuracy: 0.8333\n",
      "Epoch 12/1000\n",
      "1791/1791 [==============================] - 9s 5ms/step - loss: 0.3776 - binary_accuracy: 0.8251 - val_loss: 0.3743 - val_binary_accuracy: 0.8324\n",
      "Epoch 13/1000\n",
      "1791/1791 [==============================] - 9s 5ms/step - loss: 0.3761 - binary_accuracy: 0.8257 - val_loss: 0.3742 - val_binary_accuracy: 0.8349\n",
      "Epoch 14/1000\n",
      "1791/1791 [==============================] - 9s 5ms/step - loss: 0.3739 - binary_accuracy: 0.8259 - val_loss: 0.3719 - val_binary_accuracy: 0.8329\n"
     ]
    },
    {
     "data": {
      "text/plain": [
       "<AxesSubplot:title={'center':'Accuracy'}>"
      ]
     },
     "execution_count": 7,
     "metadata": {},
     "output_type": "execute_result"
    },
    {
     "data": {
      "image/png": "[encoded data removed]",
      "text/plain": [
       "<Figure size 640x480 with 1 Axes>"
      ]
     },
     "metadata": {},
     "output_type": "display_data"
    },
    {
     "data": {
      "image/png": "[encoded data removed]",
      "text/plain": [
       "<Figure size 640x480 with 1 Axes>"
      ]
     },
     "metadata": {},
     "output_type": "display_data"
    }
   ],
   "source": [
    "early_stopping = keras.callbacks.EarlyStopping(\n",
    "    patience = 5,\n",
    "    min_delta = 0.001,\n",
    "    restore_best_weights = True\n",
    ")\n",
    "history = model.fit(\n",
    "    X_train, y_train,\n",
    "    validation_data=(X_valid, y_valid),\n",
    "    batch_size = 50,\n",
    "    epochs = 1000,\n",
    "    callbacks = [early_stopping]\n",
    ")\n",
    "\n",
    "history_df = pd.DataFrame(history.history)\n",
    "history_df.loc[:, ['loss', 'val_loss']].plot(title=\"Cross-entropy\")\n",
    "history_df.loc[:, ['binary_accuracy', 'val_binary_accuracy']].plot(title=\"Accuracy\")"
   ]
  },
  {
   "cell_type": "markdown",
   "id": "42725e31",
   "metadata": {
    "papermill": {
     "duration": 0.170934,
     "end_time": "2023-02-24T09:04:15.451033",
     "exception": false,
     "start_time": "2023-02-24T09:04:15.280099",
     "status": "completed"
    },
    "tags": []
   },
   "source": [
    "# 3) Train and Evaluate #\n",
    "\n",
    "\n",
    "What do you think about the learning curves? Does it look like the model underfit or overfit? Was the cross-entropy loss a good stand-in for accuracy?"
   ]
  },
  {
   "cell_type": "code",
   "execution_count": 8,
   "id": "ae3efe2c",
   "metadata": {
    "execution": {
     "iopub.execute_input": "2023-02-24T09:04:15.703060Z",
     "iopub.status.busy": "2023-02-24T09:04:15.702652Z",
     "iopub.status.idle": "2023-02-24T09:04:15.710683Z",
     "shell.execute_reply": "2023-02-24T09:04:15.709755Z"
    },
    "papermill": {
     "duration": 0.122818,
     "end_time": "2023-02-24T09:04:15.713163",
     "exception": false,
     "start_time": "2023-02-24T09:04:15.590345",
     "status": "completed"
    },
    "tags": []
   },
   "outputs": [
    {
     "data": {
      "application/javascript": [
       "parent.postMessage({\"jupyterEvent\": \"custom.exercise_interaction\", \"data\": {\"outcomeType\": 1, \"valueTowardsCompletion\": 0.3333333333333333, \"interactionType\": 1, \"questionType\": 4, \"questionId\": \"3_Q3\", \"learnToolsVersion\": \"0.3.4\", \"failureMessage\": \"\", \"exceptionClass\": \"\", \"trace\": \"\"}}, \"*\")"
      ],
      "text/plain": [
       "<IPython.core.display.Javascript object>"
      ]
     },
     "metadata": {},
     "output_type": "display_data"
    },
    {
     "data": {
      "text/markdown": [
       "<span style=\"color:#33cc33\">Correct:</span> \n",
       "\n",
       "Though we can see the training loss continuing to fall, the early stopping callback prevented any overfitting. Moreover, the accuracy rose at the same rate as the cross-entropy fell, so it appears that minimizing cross-entropy was a good stand-in. All in all, it looks like this training was a success!"
      ],
      "text/plain": [
       "Correct: \n",
       "\n",
       "Though we can see the training loss continuing to fall, the early stopping callback prevented any overfitting. Moreover, the accuracy rose at the same rate as the cross-entropy fell, so it appears that minimizing cross-entropy was a good stand-in. All in all, it looks like this training was a success!"
      ]
     },
     "metadata": {},
     "output_type": "display_data"
    }
   ],
   "source": [
    "# View the solution (Run this cell to receive credit!)\n",
    "q_3.check()"
   ]
  },
  {
   "cell_type": "markdown",
   "id": "00c83520",
   "metadata": {
    "papermill": {
     "duration": 0.117637,
     "end_time": "2023-02-24T09:04:15.943458",
     "exception": false,
     "start_time": "2023-02-24T09:04:15.825821",
     "status": "completed"
    },
    "tags": []
   },
   "source": [
    "# Conclusion #\n",
    "\n",
    "Congratulations! You've completed Kaggle's *Introduction to Deep Learning* course!\n",
    "\n",
    "With your new skills you're ready to take on more advanced applications like computer vision and sentiment classification. What would you like to do next?\n",
    "\n",
    "Why not try one of our *Getting Started* competitions?\n",
    "\n",
    "- Classify images with TPUs in [**Petals to the Metal**](https://www.kaggle.com/c/tpu-getting-started)\n",
    "- Create art with GANs in [**I'm Something of a Painter Myself**](https://www.kaggle.com/c/gan-getting-started)\n",
    "- Classify Tweets in [**Real or Not? NLP with Disaster Tweets**](https://www.kaggle.com/c/nlp-getting-started)\n",
    "- Detect contradiction and entailment in [**Contradictory, My Dear Watson**](https://www.kaggle.com/c/contradictory-my-dear-watson)\n",
    "\n",
    "Until next time, Kagglers!"
   ]
  },
  {
   "cell_type": "markdown",
   "id": "4fb09f6c",
   "metadata": {
    "papermill": {
     "duration": 0.16624,
     "end_time": "2023-02-24T09:04:16.230418",
     "exception": false,
     "start_time": "2023-02-24T09:04:16.064178",
     "status": "completed"
    },
    "tags": []
   },
   "source": [
    "---\n",
    "\n",
    "\n",
    "\n",
    "\n",
    "*Have questions or comments? Visit the [course discussion forum](https://www.kaggle.com/learn/intro-to-deep-learning/discussion) to chat with other learners.*"
   ]
  }
 ],
 "metadata": {
  "kernelspec": {
   "display_name": "Python 3",
   "language": "python",
   "name": "python3"
  },
  "language_info": {
   "codemirror_mode": {
    "name": "ipython",
    "version": 3
   },
   "file_extension": ".py",
   "mimetype": "text/x-python",
   "name": "python",
   "nbconvert_exporter": "python",
   "pygments_lexer": "ipython3",
   "version": "3.7.12"
  },
  "papermill": {
   "default_parameters": {},
   "duration": 151.399479,
   "end_time": "2023-02-24T09:04:19.274259",
   "environment_variables": {},
   "exception": null,
   "input_path": "__notebook__.ipynb",
   "output_path": "__notebook__.ipynb",
   "parameters": {},
   "start_time": "2023-02-24T09:01:47.874780",
   "version": "2.3.4"
  }
 },
 "nbformat": 4,
 "nbformat_minor": 5
}
