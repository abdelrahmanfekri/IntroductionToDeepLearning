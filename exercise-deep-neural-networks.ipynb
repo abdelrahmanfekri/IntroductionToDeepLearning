{
 "cells": [
  {
   "cell_type": "markdown",
   "id": "6ae3d8a2",
   "metadata": {
    "papermill": {
     "duration": 0.008433,
     "end_time": "2023-02-22T08:05:33.679101",
     "exception": false,
     "start_time": "2023-02-22T08:05:33.670668",
     "status": "completed"
    },
    "tags": []
   },
   "source": [
    "**This notebook is an exercise in the [Intro to Deep Learning](https://www.kaggle.com/learn/intro-to-deep-learning) course.  You can reference the tutorial at [this link](https://www.kaggle.com/ryanholbrook/deep-neural-networks).**\n",
    "\n",
    "---\n"
   ]
  },
  {
   "cell_type": "markdown",
   "id": "798930cb",
   "metadata": {
    "papermill": {
     "duration": 0.004329,
     "end_time": "2023-02-22T08:05:33.688310",
     "exception": false,
     "start_time": "2023-02-22T08:05:33.683981",
     "status": "completed"
    },
    "tags": []
   },
   "source": [
    "# Introduction #\n",
    "\n",
    "In the tutorial, we saw how to build deep neural networks by stacking layers inside a `Sequential` model. By adding an *activation function* after the hidden layers, we gave the network the ability to learn more complex (non-linear) relationships in the data.\n",
    "\n",
    "In these exercises, you'll build a neural network with several hidden layers and then explore some activation functions beyond ReLU. Run this next cell to set everything up!"
   ]
  },
  {
   "cell_type": "code",
   "execution_count": 1,
   "id": "99fa6757",
   "metadata": {
    "execution": {
     "iopub.execute_input": "2023-02-22T08:05:33.699606Z",
     "iopub.status.busy": "2023-02-22T08:05:33.699134Z",
     "iopub.status.idle": "2023-02-22T08:05:40.411473Z",
     "shell.execute_reply": "2023-02-22T08:05:40.410408Z"
    },
    "papermill": {
     "duration": 6.7213,
     "end_time": "2023-02-22T08:05:40.414225",
     "exception": false,
     "start_time": "2023-02-22T08:05:33.692925",
     "status": "completed"
    },
    "tags": []
   },
   "outputs": [],
   "source": [
    "import tensorflow as tf\n",
    "\n",
    "# Setup plotting\n",
    "import matplotlib.pyplot as plt\n",
    "\n",
    "plt.style.use('seaborn-whitegrid')\n",
    "# Set Matplotlib defaults\n",
    "plt.rc('figure', autolayout=True)\n",
    "plt.rc('axes', labelweight='bold', labelsize='large',\n",
    "       titleweight='bold', titlesize=18, titlepad=10)\n",
    "\n",
    "# Setup feedback system\n",
    "from learntools.core import binder\n",
    "binder.bind(globals())\n",
    "from learntools.deep_learning_intro.ex2 import *"
   ]
  },
  {
   "cell_type": "markdown",
   "id": "10dced38",
   "metadata": {
    "papermill": {
     "duration": 0.004229,
     "end_time": "2023-02-22T08:05:40.423390",
     "exception": false,
     "start_time": "2023-02-22T08:05:40.419161",
     "status": "completed"
    },
    "tags": []
   },
   "source": [
    "In the *Concrete* dataset, your task is to predict the compressive strength of concrete manufactured according to various recipes.\n",
    "\n",
    "Run the next code cell without changes to load the dataset."
   ]
  },
  {
   "cell_type": "code",
   "execution_count": 2,
   "id": "e10d282d",
   "metadata": {
    "execution": {
     "iopub.execute_input": "2023-02-22T08:05:40.434481Z",
     "iopub.status.busy": "2023-02-22T08:05:40.433524Z",
     "iopub.status.idle": "2023-02-22T08:05:40.474451Z",
     "shell.execute_reply": "2023-02-22T08:05:40.473210Z"
    },
    "papermill": {
     "duration": 0.049177,
     "end_time": "2023-02-22T08:05:40.476990",
     "exception": false,
     "start_time": "2023-02-22T08:05:40.427813",
     "status": "completed"
    },
    "tags": []
   },
   "outputs": [
    {
     "data": {
      "text/html": [
       "<div>\n",
       "<style scoped>\n",
       "    .dataframe tbody tr th:only-of-type {\n",
       "        vertical-align: middle;\n",
       "    }\n",
       "\n",
       "    .dataframe tbody tr th {\n",
       "        vertical-align: top;\n",
       "    }\n",
       "\n",
       "    .dataframe thead th {\n",
       "        text-align: right;\n",
       "    }\n",
       "</style>\n",
       "<table border=\"1\" class=\"dataframe\">\n",
       "  <thead>\n",
       "    <tr style=\"text-align: right;\">\n",
       "      <th></th>\n",
       "      <th>Cement</th>\n",
       "      <th>BlastFurnaceSlag</th>\n",
       "      <th>FlyAsh</th>\n",
       "      <th>Water</th>\n",
       "      <th>Superplasticizer</th>\n",
       "      <th>CoarseAggregate</th>\n",
       "      <th>FineAggregate</th>\n",
       "      <th>Age</th>\n",
       "      <th>CompressiveStrength</th>\n",
       "    </tr>\n",
       "  </thead>\n",
       "  <tbody>\n",
       "    <tr>\n",
       "      <th>0</th>\n",
       "      <td>540.0</td>\n",
       "      <td>0.0</td>\n",
       "      <td>0.0</td>\n",
       "      <td>162.0</td>\n",
       "      <td>2.5</td>\n",
       "      <td>1040.0</td>\n",
       "      <td>676.0</td>\n",
       "      <td>28</td>\n",
       "      <td>79.99</td>\n",
       "    </tr>\n",
       "    <tr>\n",
       "      <th>1</th>\n",
       "      <td>540.0</td>\n",
       "      <td>0.0</td>\n",
       "      <td>0.0</td>\n",
       "      <td>162.0</td>\n",
       "      <td>2.5</td>\n",
       "      <td>1055.0</td>\n",
       "      <td>676.0</td>\n",
       "      <td>28</td>\n",
       "      <td>61.89</td>\n",
       "    </tr>\n",
       "    <tr>\n",
       "      <th>2</th>\n",
       "      <td>332.5</td>\n",
       "      <td>142.5</td>\n",
       "      <td>0.0</td>\n",
       "      <td>228.0</td>\n",
       "      <td>0.0</td>\n",
       "      <td>932.0</td>\n",
       "      <td>594.0</td>\n",
       "      <td>270</td>\n",
       "      <td>40.27</td>\n",
       "    </tr>\n",
       "    <tr>\n",
       "      <th>3</th>\n",
       "      <td>332.5</td>\n",
       "      <td>142.5</td>\n",
       "      <td>0.0</td>\n",
       "      <td>228.0</td>\n",
       "      <td>0.0</td>\n",
       "      <td>932.0</td>\n",
       "      <td>594.0</td>\n",
       "      <td>365</td>\n",
       "      <td>41.05</td>\n",
       "    </tr>\n",
       "    <tr>\n",
       "      <th>4</th>\n",
       "      <td>198.6</td>\n",
       "      <td>132.4</td>\n",
       "      <td>0.0</td>\n",
       "      <td>192.0</td>\n",
       "      <td>0.0</td>\n",
       "      <td>978.4</td>\n",
       "      <td>825.5</td>\n",
       "      <td>360</td>\n",
       "      <td>44.30</td>\n",
       "    </tr>\n",
       "  </tbody>\n",
       "</table>\n",
       "</div>"
      ],
      "text/plain": [
       "   Cement  BlastFurnaceSlag  FlyAsh  Water  Superplasticizer  CoarseAggregate  \\\n",
       "0   540.0               0.0     0.0  162.0               2.5           1040.0   \n",
       "1   540.0               0.0     0.0  162.0               2.5           1055.0   \n",
       "2   332.5             142.5     0.0  228.0               0.0            932.0   \n",
       "3   332.5             142.5     0.0  228.0               0.0            932.0   \n",
       "4   198.6             132.4     0.0  192.0               0.0            978.4   \n",
       "\n",
       "   FineAggregate  Age  CompressiveStrength  \n",
       "0          676.0   28                79.99  \n",
       "1          676.0   28                61.89  \n",
       "2          594.0  270                40.27  \n",
       "3          594.0  365                41.05  \n",
       "4          825.5  360                44.30  "
      ]
     },
     "execution_count": 2,
     "metadata": {},
     "output_type": "execute_result"
    }
   ],
   "source": [
    "import pandas as pd\n",
    "\n",
    "concrete = pd.read_csv('../input/dl-course-data/concrete.csv')\n",
    "concrete.head()"
   ]
  },
  {
   "cell_type": "markdown",
   "id": "d33279fd",
   "metadata": {
    "papermill": {
     "duration": 0.004485,
     "end_time": "2023-02-22T08:05:40.486316",
     "exception": false,
     "start_time": "2023-02-22T08:05:40.481831",
     "status": "completed"
    },
    "tags": []
   },
   "source": [
    "# 1) Input Shape #\n",
    "\n",
    "The target for this task is the column `'CompressiveStrength'`. The remaining columns are the features we'll use as inputs.\n",
    "\n",
    "What would be the input shape for this dataset?"
   ]
  },
  {
   "cell_type": "code",
   "execution_count": 3,
   "id": "9c624736",
   "metadata": {
    "execution": {
     "iopub.execute_input": "2023-02-22T08:05:40.497405Z",
     "iopub.status.busy": "2023-02-22T08:05:40.496745Z",
     "iopub.status.idle": "2023-02-22T08:05:40.507584Z",
     "shell.execute_reply": "2023-02-22T08:05:40.506450Z"
    },
    "lines_to_next_cell": 2,
    "papermill": {
     "duration": 0.018924,
     "end_time": "2023-02-22T08:05:40.509760",
     "exception": false,
     "start_time": "2023-02-22T08:05:40.490836",
     "status": "completed"
    },
    "tags": []
   },
   "outputs": [
    {
     "name": "stdout",
     "output_type": "stream",
     "text": [
      "(1030, 9)\n",
      "[8]\n"
     ]
    },
    {
     "data": {
      "application/javascript": [
       "parent.postMessage({\"jupyterEvent\": \"custom.exercise_interaction\", \"data\": {\"outcomeType\": 1, \"valueTowardsCompletion\": 0.3333333333333333, \"interactionType\": 1, \"questionType\": 2, \"questionId\": \"1_Q1\", \"learnToolsVersion\": \"0.3.4\", \"failureMessage\": \"\", \"exceptionClass\": \"\", \"trace\": \"\"}}, \"*\")"
      ],
      "text/plain": [
       "<IPython.core.display.Javascript object>"
      ]
     },
     "metadata": {},
     "output_type": "display_data"
    },
    {
     "data": {
      "text/markdown": [
       "<span style=\"color:#33cc33\">Correct</span>"
      ],
      "text/plain": [
       "Correct"
      ]
     },
     "metadata": {},
     "output_type": "display_data"
    }
   ],
   "source": [
    "# YOUR CODE HERE\n",
    "print(concrete.shape)\n",
    "input_shape = [concrete.shape[1] -1]\n",
    "print(input_shape)\n",
    "# Check your answer\n",
    "q_1.check()"
   ]
  },
  {
   "cell_type": "code",
   "execution_count": 4,
   "id": "507d6857",
   "metadata": {
    "execution": {
     "iopub.execute_input": "2023-02-22T08:05:40.521723Z",
     "iopub.status.busy": "2023-02-22T08:05:40.521101Z",
     "iopub.status.idle": "2023-02-22T08:05:40.525466Z",
     "shell.execute_reply": "2023-02-22T08:05:40.524692Z"
    },
    "papermill": {
     "duration": 0.012768,
     "end_time": "2023-02-22T08:05:40.527569",
     "exception": false,
     "start_time": "2023-02-22T08:05:40.514801",
     "status": "completed"
    },
    "tags": []
   },
   "outputs": [],
   "source": [
    "# Lines below will give you a hint or solution code\n",
    "#q_1.hint()\n",
    "#q_1.solution()"
   ]
  },
  {
   "cell_type": "markdown",
   "id": "7d96e53c",
   "metadata": {
    "papermill": {
     "duration": 0.004594,
     "end_time": "2023-02-22T08:05:40.537050",
     "exception": false,
     "start_time": "2023-02-22T08:05:40.532456",
     "status": "completed"
    },
    "tags": []
   },
   "source": [
    "# 2) Define a Model with Hidden Layers #\n",
    "\n",
    "Now create a model with three hidden layers, each having 512 units and the ReLU activation.  Be sure to include an output layer of one unit and no activation, and also `input_shape` as an argument to the first layer."
   ]
  },
  {
   "cell_type": "code",
   "execution_count": 5,
   "id": "9e17aa00",
   "metadata": {
    "execution": {
     "iopub.execute_input": "2023-02-22T08:05:40.549173Z",
     "iopub.status.busy": "2023-02-22T08:05:40.548492Z",
     "iopub.status.idle": "2023-02-22T08:05:40.553258Z",
     "shell.execute_reply": "2023-02-22T08:05:40.552475Z"
    },
    "papermill": {
     "duration": 0.013295,
     "end_time": "2023-02-22T08:05:40.555312",
     "exception": false,
     "start_time": "2023-02-22T08:05:40.542017",
     "status": "completed"
    },
    "tags": []
   },
   "outputs": [],
   "source": [
    "import warnings\n",
    "warnings.filterwarnings(\"error\")"
   ]
  },
  {
   "cell_type": "code",
   "execution_count": 6,
   "id": "310872f4",
   "metadata": {
    "execution": {
     "iopub.execute_input": "2023-02-22T08:05:40.567635Z",
     "iopub.status.busy": "2023-02-22T08:05:40.566989Z",
     "iopub.status.idle": "2023-02-22T08:05:40.704573Z",
     "shell.execute_reply": "2023-02-22T08:05:40.702774Z"
    },
    "lines_to_next_cell": 0,
    "papermill": {
     "duration": 0.146642,
     "end_time": "2023-02-22T08:05:40.707119",
     "exception": false,
     "start_time": "2023-02-22T08:05:40.560477",
     "status": "completed"
    },
    "tags": []
   },
   "outputs": [
    {
     "name": "stderr",
     "output_type": "stream",
     "text": [
      "2023-02-22 08:05:40.605283: W tensorflow/stream_executor/platform/default/dso_loader.cc:64] Could not load dynamic library 'libcuda.so.1'; dlerror: libcuda.so.1: cannot open shared object file: No such file or directory; LD_LIBRARY_PATH: /usr/local/cuda/lib64:/usr/local/cuda/lib:/usr/local/lib/x86_64-linux-gnu:/usr/local/nvidia/lib:/usr/local/nvidia/lib64::/opt/conda/lib\n",
      "2023-02-22 08:05:40.605354: W tensorflow/stream_executor/cuda/cuda_driver.cc:269] failed call to cuInit: UNKNOWN ERROR (303)\n"
     ]
    },
    {
     "data": {
      "application/javascript": [
       "parent.postMessage({\"jupyterEvent\": \"custom.exercise_interaction\", \"data\": {\"outcomeType\": 1, \"valueTowardsCompletion\": 0.3333333333333333, \"interactionType\": 1, \"questionType\": 2, \"questionId\": \"2_Q2\", \"learnToolsVersion\": \"0.3.4\", \"failureMessage\": \"\", \"exceptionClass\": \"\", \"trace\": \"\"}}, \"*\")"
      ],
      "text/plain": [
       "<IPython.core.display.Javascript object>"
      ]
     },
     "metadata": {},
     "output_type": "display_data"
    },
    {
     "data": {
      "text/markdown": [
       "<span style=\"color:#33cc33\">Correct</span>"
      ],
      "text/plain": [
       "Correct"
      ]
     },
     "metadata": {},
     "output_type": "display_data"
    }
   ],
   "source": [
    "import tensorflow\n",
    "from tensorflow import keras\n",
    "from keras.layers import Dense\n",
    "from keras.models import Sequential\n",
    "\n",
    "model = Sequential([\n",
    "    Dense(units=512, activation=\"relu\",input_shape=input_shape),\n",
    "    Dense(units=512, activation=\"relu\"),\n",
    "    Dense(units=512, activation=\"relu\"),\n",
    "    Dense(units=1)\n",
    "])\n",
    "# Check your answer\n",
    "q_2.check()"
   ]
  },
  {
   "cell_type": "code",
   "execution_count": 7,
   "id": "55ed9c27",
   "metadata": {
    "execution": {
     "iopub.execute_input": "2023-02-22T08:05:40.719841Z",
     "iopub.status.busy": "2023-02-22T08:05:40.719410Z",
     "iopub.status.idle": "2023-02-22T08:05:40.723800Z",
     "shell.execute_reply": "2023-02-22T08:05:40.722768Z"
    },
    "papermill": {
     "duration": 0.0135,
     "end_time": "2023-02-22T08:05:40.726197",
     "exception": false,
     "start_time": "2023-02-22T08:05:40.712697",
     "status": "completed"
    },
    "tags": []
   },
   "outputs": [],
   "source": [
    "# Lines below will give you a hint or solution code\n",
    "#q_2.hint()\n",
    "#q_2.solution()"
   ]
  },
  {
   "cell_type": "markdown",
   "id": "e5fa9635",
   "metadata": {
    "papermill": {
     "duration": 0.005069,
     "end_time": "2023-02-22T08:05:40.736697",
     "exception": false,
     "start_time": "2023-02-22T08:05:40.731628",
     "status": "completed"
    },
    "tags": []
   },
   "source": [
    "# 3) Activation Layers #\n",
    "\n",
    "Let's explore activations functions some.\n",
    "\n",
    "The usual way of attaching an activation function to a `Dense` layer is to include it as part of the definition with the `activation` argument. Sometimes though you'll want to put some other layer between the `Dense` layer and its activation function. (We'll see an example of this in Lesson 5 with *batch normalization*.) In this case, we can define the activation in its own `Activation` layer, like so:\n",
    "\n",
    "```\n",
    "layers.Dense(units=8),\n",
    "layers.Activation('relu')\n",
    "```\n",
    "\n",
    "This is completely equivalent to the ordinary way: `layers.Dense(units=8, activation='relu')`.\n",
    "\n",
    "Rewrite the following model so that each activation is in its own `Activation` layer."
   ]
  },
  {
   "cell_type": "code",
   "execution_count": 8,
   "id": "dd9dc59e",
   "metadata": {
    "execution": {
     "iopub.execute_input": "2023-02-22T08:05:40.749276Z",
     "iopub.status.busy": "2023-02-22T08:05:40.748503Z",
     "iopub.status.idle": "2023-02-22T08:05:40.793852Z",
     "shell.execute_reply": "2023-02-22T08:05:40.792797Z"
    },
    "lines_to_next_cell": 0,
    "papermill": {
     "duration": 0.054249,
     "end_time": "2023-02-22T08:05:40.796216",
     "exception": false,
     "start_time": "2023-02-22T08:05:40.741967",
     "status": "completed"
    },
    "tags": []
   },
   "outputs": [
    {
     "data": {
      "application/javascript": [
       "parent.postMessage({\"jupyterEvent\": \"custom.exercise_interaction\", \"data\": {\"outcomeType\": 1, \"valueTowardsCompletion\": 0.3333333333333333, \"interactionType\": 1, \"questionType\": 2, \"questionId\": \"3_Q3\", \"learnToolsVersion\": \"0.3.4\", \"failureMessage\": \"\", \"exceptionClass\": \"\", \"trace\": \"\"}}, \"*\")"
      ],
      "text/plain": [
       "<IPython.core.display.Javascript object>"
      ]
     },
     "metadata": {},
     "output_type": "display_data"
    },
    {
     "data": {
      "text/markdown": [
       "<span style=\"color:#33cc33\">Correct</span>"
      ],
      "text/plain": [
       "Correct"
      ]
     },
     "metadata": {},
     "output_type": "display_data"
    }
   ],
   "source": [
    "### YOUR CODE HERE: rewrite this to use activation layers\n",
    "from keras import layers\n",
    "model = keras.Sequential([\n",
    "    layers.Dense(32,input_shape = [8]),\n",
    "    layers.Activation('relu'),\n",
    "    layers.Dense(32),\n",
    "    layers.Activation('relu'),\n",
    "    layers.Dense(1)\n",
    "])\n",
    "\n",
    "# Check your answer\n",
    "q_3.check()"
   ]
  },
  {
   "cell_type": "code",
   "execution_count": 9,
   "id": "0a769ed6",
   "metadata": {
    "execution": {
     "iopub.execute_input": "2023-02-22T08:05:40.809207Z",
     "iopub.status.busy": "2023-02-22T08:05:40.808831Z",
     "iopub.status.idle": "2023-02-22T08:05:40.812856Z",
     "shell.execute_reply": "2023-02-22T08:05:40.811705Z"
    },
    "papermill": {
     "duration": 0.013226,
     "end_time": "2023-02-22T08:05:40.815094",
     "exception": false,
     "start_time": "2023-02-22T08:05:40.801868",
     "status": "completed"
    },
    "tags": []
   },
   "outputs": [],
   "source": [
    "# Lines below will give you a hint or solution code\n",
    "#q_3.hint()\n",
    "#q_3.solution()"
   ]
  },
  {
   "cell_type": "markdown",
   "id": "69d8d977",
   "metadata": {
    "papermill": {
     "duration": 0.005143,
     "end_time": "2023-02-22T08:05:40.825790",
     "exception": false,
     "start_time": "2023-02-22T08:05:40.820647",
     "status": "completed"
    },
    "tags": []
   },
   "source": [
    "# Optional: Alternatives to ReLU #\n",
    "\n",
    "There is a whole family of variants of the `'relu'` activation -- `'elu'`, `'selu'`, and `'swish'`, among others -- all of which you can use in Keras. Sometimes one activation will perform better than another on a given task, so you could consider experimenting with activations as you develop a model. The ReLU activation tends to do well on most problems, so it's a good one to start with.\n",
    "\n",
    "Let's look at the graphs of some of these. Change the activation from `'relu'` to one of the others named above. Then run the cell to see the graph. (Check out the [documentation](https://www.tensorflow.org/api_docs/python/tf/keras/activations) for more ideas.)"
   ]
  },
  {
   "cell_type": "code",
   "execution_count": 10,
   "id": "f7886985",
   "metadata": {
    "execution": {
     "iopub.execute_input": "2023-02-22T08:05:40.838319Z",
     "iopub.status.busy": "2023-02-22T08:05:40.837967Z",
     "iopub.status.idle": "2023-02-22T08:05:41.176456Z",
     "shell.execute_reply": "2023-02-22T08:05:41.175363Z"
    },
    "lines_to_next_cell": 0,
    "papermill": {
     "duration": 0.347711,
     "end_time": "2023-02-22T08:05:41.178850",
     "exception": false,
     "start_time": "2023-02-22T08:05:40.831139",
     "status": "completed"
    },
    "tags": []
   },
   "outputs": [
    {
     "data": {
      "image/png": "[encoded data removed]",
      "text/plain": [
       "<Figure size 640x480 with 1 Axes>"
      ]
     },
     "metadata": {},
     "output_type": "display_data"
    }
   ],
   "source": [
    "# YOUR CODE HERE: Change 'relu' to 'elu', 'selu', 'swish'... or something else\n",
    "activation_layer = layers.Activation('swish')\n",
    "\n",
    "x = tf.linspace(-3.0, 3.0, 100)\n",
    "y = activation_layer(x) # once created, a layer is callable just like a function\n",
    "\n",
    "plt.figure()\n",
    "plt.plot(x,y)\n",
    "plt.xlim(-3,3)\n",
    "plt.show()"
   ]
  },
  {
   "cell_type": "markdown",
   "id": "f8ca27ec",
   "metadata": {
    "papermill": {
     "duration": 0.005639,
     "end_time": "2023-02-22T08:05:41.190747",
     "exception": false,
     "start_time": "2023-02-22T08:05:41.185108",
     "status": "completed"
    },
    "tags": []
   },
   "source": [
    "# Keep Going #\n",
    "\n",
    "Now move on to Lesson 3 and [**learn how to train neural networks**](https://www.kaggle.com/ryanholbrook/stochastic-gradient-descent) with stochastic gradient descent."
   ]
  },
  {
   "cell_type": "markdown",
   "id": "c757c812",
   "metadata": {
    "papermill": {
     "duration": 0.005395,
     "end_time": "2023-02-22T08:05:41.202001",
     "exception": false,
     "start_time": "2023-02-22T08:05:41.196606",
     "status": "completed"
    },
    "tags": []
   },
   "source": [
    "---\n",
    "\n",
    "\n",
    "\n",
    "\n",
    "*Have questions or comments? Visit the [course discussion forum](https://www.kaggle.com/learn/intro-to-deep-learning/discussion) to chat with other learners.*"
   ]
  }
 ],
 "metadata": {
  "kernelspec": {
   "display_name": "Python 3",
   "language": "python",
   "name": "python3"
  },
  "language_info": {
   "codemirror_mode": {
    "name": "ipython",
    "version": 3
   },
   "file_extension": ".py",
   "mimetype": "text/x-python",
   "name": "python",
   "nbconvert_exporter": "python",
   "pygments_lexer": "ipython3",
   "version": "3.7.12"
  },
  "papermill": {
   "default_parameters": {},
   "duration": 19.616931,
   "end_time": "2023-02-22T08:05:44.359150",
   "environment_variables": {},
   "exception": null,
   "input_path": "__notebook__.ipynb",
   "output_path": "__notebook__.ipynb",
   "parameters": {},
   "start_time": "2023-02-22T08:05:24.742219",
   "version": "2.3.4"
  }
 },
 "nbformat": 4,
 "nbformat_minor": 5
}
