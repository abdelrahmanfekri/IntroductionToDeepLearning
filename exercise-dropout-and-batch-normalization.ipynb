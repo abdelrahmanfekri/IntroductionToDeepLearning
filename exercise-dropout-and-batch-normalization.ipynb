{
 "cells": [
  {
   "cell_type": "markdown",
   "id": "831d4bd3",
   "metadata": {
    "papermill": {
     "duration": 0.007696,
     "end_time": "2023-02-24T08:47:09.331766",
     "exception": false,
     "start_time": "2023-02-24T08:47:09.324070",
     "status": "completed"
    },
    "tags": []
   },
   "source": [
    "**This notebook is an exercise in the [Intro to Deep Learning](https://www.kaggle.com/learn/intro-to-deep-learning) course.  You can reference the tutorial at [this link](https://www.kaggle.com/ryanholbrook/dropout-and-batch-normalization).**\n",
    "\n",
    "---\n"
   ]
  },
  {
   "cell_type": "markdown",
   "id": "4b8f0386",
   "metadata": {
    "papermill": {
     "duration": 0.004402,
     "end_time": "2023-02-24T08:47:09.341591",
     "exception": false,
     "start_time": "2023-02-24T08:47:09.337189",
     "status": "completed"
    },
    "tags": []
   },
   "source": [
    "# Introduction #\n",
    "\n",
    "In this exercise, you'll add dropout to the *Spotify* model from Exercise 4 and see how batch normalization can let you successfully train models on difficult datasets.\n",
    "\n",
    "Run the next cell to get started!"
   ]
  },
  {
   "cell_type": "code",
   "execution_count": 1,
   "id": "c9f74166",
   "metadata": {
    "execution": {
     "iopub.execute_input": "2023-02-24T08:47:09.353391Z",
     "iopub.status.busy": "2023-02-24T08:47:09.352523Z",
     "iopub.status.idle": "2023-02-24T08:47:09.384020Z",
     "shell.execute_reply": "2023-02-24T08:47:09.383115Z"
    },
    "papermill": {
     "duration": 0.040108,
     "end_time": "2023-02-24T08:47:09.386308",
     "exception": false,
     "start_time": "2023-02-24T08:47:09.346200",
     "status": "completed"
    },
    "tags": []
   },
   "outputs": [],
   "source": [
    "# Setup plotting\n",
    "import matplotlib.pyplot as plt\n",
    "plt.style.use('seaborn-whitegrid')\n",
    "# Set Matplotlib defaults\n",
    "plt.rc('figure', autolayout=True)\n",
    "plt.rc('axes', labelweight='bold', labelsize='large',\n",
    "       titleweight='bold', titlesize=18, titlepad=10)\n",
    "plt.rc('animation', html='html5')\n",
    "\n",
    "# Setup feedback system\n",
    "from learntools.core import binder\n",
    "binder.bind(globals())\n",
    "from learntools.deep_learning_intro.ex5 import *"
   ]
  },
  {
   "cell_type": "markdown",
   "id": "131e7b50",
   "metadata": {
    "papermill": {
     "duration": 0.004443,
     "end_time": "2023-02-24T08:47:09.395513",
     "exception": false,
     "start_time": "2023-02-24T08:47:09.391070",
     "status": "completed"
    },
    "tags": []
   },
   "source": [
    "First load the *Spotify* dataset."
   ]
  },
  {
   "cell_type": "code",
   "execution_count": 2,
   "id": "9853ff7f",
   "metadata": {
    "execution": {
     "iopub.execute_input": "2023-02-24T08:47:09.406539Z",
     "iopub.status.busy": "2023-02-24T08:47:09.406045Z",
     "iopub.status.idle": "2023-02-24T08:47:17.340382Z",
     "shell.execute_reply": "2023-02-24T08:47:17.337500Z"
    },
    "papermill": {
     "duration": 7.942292,
     "end_time": "2023-02-24T08:47:17.342708",
     "exception": false,
     "start_time": "2023-02-24T08:47:09.400416",
     "status": "completed"
    },
    "tags": []
   },
   "outputs": [
    {
     "name": "stdout",
     "output_type": "stream",
     "text": [
      "Input shape: [18]\n"
     ]
    }
   ],
   "source": [
    "import pandas as pd\n",
    "from sklearn.preprocessing import StandardScaler, OneHotEncoder\n",
    "from sklearn.compose import make_column_transformer\n",
    "from sklearn.model_selection import GroupShuffleSplit\n",
    "\n",
    "from tensorflow import keras\n",
    "from tensorflow.keras import layers\n",
    "from tensorflow.keras import callbacks\n",
    "\n",
    "spotify = pd.read_csv('../input/dl-course-data/spotify.csv')\n",
    "\n",
    "X = spotify.copy().dropna()\n",
    "y = X.pop('track_popularity')\n",
    "artists = X['track_artist']\n",
    "\n",
    "features_num = ['danceability', 'energy', 'key', 'loudness', 'mode',\n",
    "                'speechiness', 'acousticness', 'instrumentalness',\n",
    "                'liveness', 'valence', 'tempo', 'duration_ms']\n",
    "features_cat = ['playlist_genre']\n",
    "\n",
    "preprocessor = make_column_transformer(\n",
    "    (StandardScaler(), features_num),\n",
    "    (OneHotEncoder(), features_cat),\n",
    ")\n",
    "\n",
    "def group_split(X, y, group, train_size=0.75):\n",
    "    splitter = GroupShuffleSplit(train_size=train_size)\n",
    "    train, test = next(splitter.split(X, y, groups=group))\n",
    "    return (X.iloc[train], X.iloc[test], y.iloc[train], y.iloc[test])\n",
    "\n",
    "X_train, X_valid, y_train, y_valid = group_split(X, y, artists)\n",
    "\n",
    "X_train = preprocessor.fit_transform(X_train)\n",
    "X_valid = preprocessor.transform(X_valid)\n",
    "y_train = y_train / 100\n",
    "y_valid = y_valid / 100\n",
    "\n",
    "input_shape = [X_train.shape[1]]\n",
    "print(\"Input shape: {}\".format(input_shape))"
   ]
  },
  {
   "cell_type": "markdown",
   "id": "95bdc3e8",
   "metadata": {
    "papermill": {
     "duration": 0.004983,
     "end_time": "2023-02-24T08:47:17.352811",
     "exception": false,
     "start_time": "2023-02-24T08:47:17.347828",
     "status": "completed"
    },
    "tags": []
   },
   "source": [
    "# 1) Add Dropout to Spotify Model\n",
    "\n",
    "Here is the last model from Exercise 4. Add two dropout layers, one after the `Dense` layer with 128 units, and one after the `Dense` layer with 64 units. Set the dropout rate on both to `0.3`."
   ]
  },
  {
   "cell_type": "code",
   "execution_count": 3,
   "id": "bd456c35",
   "metadata": {
    "execution": {
     "iopub.execute_input": "2023-02-24T08:47:17.365502Z",
     "iopub.status.busy": "2023-02-24T08:47:17.363781Z",
     "iopub.status.idle": "2023-02-24T08:47:17.369097Z",
     "shell.execute_reply": "2023-02-24T08:47:17.368179Z"
    },
    "papermill": {
     "duration": 0.013601,
     "end_time": "2023-02-24T08:47:17.371220",
     "exception": false,
     "start_time": "2023-02-24T08:47:17.357619",
     "status": "completed"
    },
    "tags": []
   },
   "outputs": [],
   "source": [
    "import warnings\n",
    "warnings.filterwarnings('ignore')"
   ]
  },
  {
   "cell_type": "code",
   "execution_count": 4,
   "id": "d7bfeba6",
   "metadata": {
    "execution": {
     "iopub.execute_input": "2023-02-24T08:47:17.383107Z",
     "iopub.status.busy": "2023-02-24T08:47:17.382307Z",
     "iopub.status.idle": "2023-02-24T08:47:19.895464Z",
     "shell.execute_reply": "2023-02-24T08:47:19.894539Z"
    },
    "lines_to_next_cell": 2,
    "papermill": {
     "duration": 2.521192,
     "end_time": "2023-02-24T08:47:19.897366",
     "exception": false,
     "start_time": "2023-02-24T08:47:17.376174",
     "status": "completed"
    },
    "tags": []
   },
   "outputs": [
    {
     "data": {
      "application/javascript": [
       "parent.postMessage({\"jupyterEvent\": \"custom.exercise_interaction\", \"data\": {\"outcomeType\": 1, \"valueTowardsCompletion\": 0.25, \"interactionType\": 1, \"questionType\": 2, \"questionId\": \"1_Q1\", \"learnToolsVersion\": \"0.3.4\", \"failureMessage\": \"\", \"exceptionClass\": \"\", \"trace\": \"\"}}, \"*\")"
      ],
      "text/plain": [
       "<IPython.core.display.Javascript object>"
      ]
     },
     "metadata": {},
     "output_type": "display_data"
    },
    {
     "data": {
      "text/markdown": [
       "<span style=\"color:#33cc33\">Correct</span>"
      ],
      "text/plain": [
       "Correct"
      ]
     },
     "metadata": {},
     "output_type": "display_data"
    }
   ],
   "source": [
    "# YOUR CODE HERE: Add two 30% dropout layers, one after 128 and one after 64\n",
    "model = keras.Sequential([\n",
    "    layers.Dense(128, activation='relu', input_shape=input_shape),\n",
    "    layers.Dropout(0.3),\n",
    "    layers.Dense(64, activation='relu'),\n",
    "    layers.Dropout(0.3),\n",
    "    layers.Dense(1)\n",
    "])\n",
    "\n",
    "# Check your answer\n",
    "q_1.check()"
   ]
  },
  {
   "cell_type": "code",
   "execution_count": 5,
   "id": "cbb66bd4",
   "metadata": {
    "execution": {
     "iopub.execute_input": "2023-02-24T08:47:19.910109Z",
     "iopub.status.busy": "2023-02-24T08:47:19.908577Z",
     "iopub.status.idle": "2023-02-24T08:47:19.913751Z",
     "shell.execute_reply": "2023-02-24T08:47:19.912905Z"
    },
    "papermill": {
     "duration": 0.01311,
     "end_time": "2023-02-24T08:47:19.915655",
     "exception": false,
     "start_time": "2023-02-24T08:47:19.902545",
     "status": "completed"
    },
    "tags": []
   },
   "outputs": [],
   "source": [
    "# Lines below will give you a hint or solution code\n",
    "#q_1.hint()\n",
    "#q_1.solution()"
   ]
  },
  {
   "cell_type": "markdown",
   "id": "52c567d8",
   "metadata": {
    "papermill": {
     "duration": 0.004706,
     "end_time": "2023-02-24T08:47:19.925261",
     "exception": false,
     "start_time": "2023-02-24T08:47:19.920555",
     "status": "completed"
    },
    "tags": []
   },
   "source": [
    "Now run this next cell to train the model see the effect of adding dropout."
   ]
  },
  {
   "cell_type": "code",
   "execution_count": 6,
   "id": "cdc08e6a",
   "metadata": {
    "execution": {
     "iopub.execute_input": "2023-02-24T08:47:19.937192Z",
     "iopub.status.busy": "2023-02-24T08:47:19.936212Z",
     "iopub.status.idle": "2023-02-24T08:47:30.709155Z",
     "shell.execute_reply": "2023-02-24T08:47:30.708184Z"
    },
    "papermill": {
     "duration": 10.78143,
     "end_time": "2023-02-24T08:47:30.711567",
     "exception": false,
     "start_time": "2023-02-24T08:47:19.930137",
     "status": "completed"
    },
    "tags": []
   },
   "outputs": [
    {
     "name": "stdout",
     "output_type": "stream",
     "text": [
      "Minimum Validation Loss: 0.1944\n"
     ]
    },
    {
     "data": {
      "image/png": "[encoded data removed]",
      "text/plain": [
       "<Figure size 640x480 with 1 Axes>"
      ]
     },
     "metadata": {},
     "output_type": "display_data"
    }
   ],
   "source": [
    "model.compile(\n",
    "    optimizer='adam',\n",
    "    loss='mae',\n",
    ")\n",
    "history = model.fit(\n",
    "    X_train, y_train,\n",
    "    validation_data=(X_valid, y_valid),\n",
    "    batch_size=512,\n",
    "    epochs=50,\n",
    "    verbose=0,\n",
    ")\n",
    "history_df = pd.DataFrame(history.history)\n",
    "history_df.loc[:, ['loss', 'val_loss']].plot()\n",
    "print(\"Minimum Validation Loss: {:0.4f}\".format(history_df['val_loss'].min()))"
   ]
  },
  {
   "cell_type": "markdown",
   "id": "a49ff187",
   "metadata": {
    "papermill": {
     "duration": 0.005451,
     "end_time": "2023-02-24T08:47:30.722970",
     "exception": false,
     "start_time": "2023-02-24T08:47:30.717519",
     "status": "completed"
    },
    "tags": []
   },
   "source": [
    "# 2) Evaluate Dropout\n",
    "\n",
    "Recall from Exercise 4 that this model tended to overfit the data around epoch 5. Did adding dropout seem to help prevent overfitting this time?"
   ]
  },
  {
   "cell_type": "code",
   "execution_count": 7,
   "id": "4e1cc3a3",
   "metadata": {
    "execution": {
     "iopub.execute_input": "2023-02-24T08:47:30.736489Z",
     "iopub.status.busy": "2023-02-24T08:47:30.735520Z",
     "iopub.status.idle": "2023-02-24T08:47:30.744136Z",
     "shell.execute_reply": "2023-02-24T08:47:30.743134Z"
    },
    "papermill": {
     "duration": 0.017497,
     "end_time": "2023-02-24T08:47:30.746214",
     "exception": false,
     "start_time": "2023-02-24T08:47:30.728717",
     "status": "completed"
    },
    "tags": []
   },
   "outputs": [
    {
     "data": {
      "application/javascript": [
       "parent.postMessage({\"jupyterEvent\": \"custom.exercise_interaction\", \"data\": {\"outcomeType\": 1, \"valueTowardsCompletion\": 0.25, \"interactionType\": 1, \"questionType\": 4, \"questionId\": \"2_Q2\", \"learnToolsVersion\": \"0.3.4\", \"failureMessage\": \"\", \"exceptionClass\": \"\", \"trace\": \"\"}}, \"*\")"
      ],
      "text/plain": [
       "<IPython.core.display.Javascript object>"
      ]
     },
     "metadata": {},
     "output_type": "display_data"
    },
    {
     "data": {
      "text/markdown": [
       "<span style=\"color:#33cc33\">Correct:</span> \n",
       "\n",
       "\n",
       "From the learning curves, you can see that the validation loss remains near a constant minimum even though the training loss continues to decrease. So we can see that adding dropout did prevent overfitting this time. Moreover, by making it harder for the network to fit spurious patterns, dropout may have encouraged the network to seek out more of the true patterns, possibly improving the validation loss some as well).\n"
      ],
      "text/plain": [
       "Correct: \n",
       "\n",
       "\n",
       "From the learning curves, you can see that the validation loss remains near a constant minimum even though the training loss continues to decrease. So we can see that adding dropout did prevent overfitting this time. Moreover, by making it harder for the network to fit spurious patterns, dropout may have encouraged the network to seek out more of the true patterns, possibly improving the validation loss some as well)."
      ]
     },
     "metadata": {},
     "output_type": "display_data"
    }
   ],
   "source": [
    "# View the solution (Run this cell to receive credit!)\n",
    "q_2.check()"
   ]
  },
  {
   "cell_type": "markdown",
   "id": "6509b567",
   "metadata": {
    "papermill": {
     "duration": 0.005511,
     "end_time": "2023-02-24T08:47:30.757527",
     "exception": false,
     "start_time": "2023-02-24T08:47:30.752016",
     "status": "completed"
    },
    "tags": []
   },
   "source": [
    "Now, we'll switch topics to explore how batch normalization can fix problems in training.\n",
    "\n",
    "Load the *Concrete* dataset. We won't do any standardization this time. This will make the effect of batch normalization much more apparent."
   ]
  },
  {
   "cell_type": "code",
   "execution_count": 8,
   "id": "1d2f37a3",
   "metadata": {
    "execution": {
     "iopub.execute_input": "2023-02-24T08:47:30.771176Z",
     "iopub.status.busy": "2023-02-24T08:47:30.770163Z",
     "iopub.status.idle": "2023-02-24T08:47:30.787905Z",
     "shell.execute_reply": "2023-02-24T08:47:30.786954Z"
    },
    "papermill": {
     "duration": 0.026876,
     "end_time": "2023-02-24T08:47:30.790022",
     "exception": false,
     "start_time": "2023-02-24T08:47:30.763146",
     "status": "completed"
    },
    "tags": []
   },
   "outputs": [],
   "source": [
    "import pandas as pd\n",
    "\n",
    "concrete = pd.read_csv('../input/dl-course-data/concrete.csv')\n",
    "df = concrete.copy()\n",
    "\n",
    "df_train = df.sample(frac=0.7, random_state=0)\n",
    "df_valid = df.drop(df_train.index)\n",
    "\n",
    "X_train = df_train.drop('CompressiveStrength', axis=1)\n",
    "X_valid = df_valid.drop('CompressiveStrength', axis=1)\n",
    "y_train = df_train['CompressiveStrength']\n",
    "y_valid = df_valid['CompressiveStrength']\n",
    "\n",
    "input_shape = [X_train.shape[1]]"
   ]
  },
  {
   "cell_type": "markdown",
   "id": "65cba983",
   "metadata": {
    "papermill": {
     "duration": 0.005768,
     "end_time": "2023-02-24T08:47:30.801587",
     "exception": false,
     "start_time": "2023-02-24T08:47:30.795819",
     "status": "completed"
    },
    "tags": []
   },
   "source": [
    "Run the following cell to train the network on the unstandardized *Concrete* data."
   ]
  },
  {
   "cell_type": "code",
   "execution_count": 9,
   "id": "9683596d",
   "metadata": {
    "execution": {
     "iopub.execute_input": "2023-02-24T08:47:30.815326Z",
     "iopub.status.busy": "2023-02-24T08:47:30.814924Z",
     "iopub.status.idle": "2023-02-24T08:48:31.099937Z",
     "shell.execute_reply": "2023-02-24T08:48:31.098921Z"
    },
    "papermill": {
     "duration": 60.294247,
     "end_time": "2023-02-24T08:48:31.102093",
     "exception": false,
     "start_time": "2023-02-24T08:47:30.807846",
     "status": "completed"
    },
    "tags": []
   },
   "outputs": [
    {
     "name": "stdout",
     "output_type": "stream",
     "text": [
      "Minimum Validation Loss: 3.5672\n"
     ]
    },
    {
     "data": {
      "image/png": "[encoded data removed]",
      "text/plain": [
       "<Figure size 640x480 with 1 Axes>"
      ]
     },
     "metadata": {},
     "output_type": "display_data"
    }
   ],
   "source": [
    "model = keras.Sequential([\n",
    "    layers.Dense(512, activation='relu', input_shape=input_shape),\n",
    "    layers.Dense(512, activation='relu'),    \n",
    "    layers.Dense(512, activation='relu'),\n",
    "    layers.Dense(1),\n",
    "])\n",
    "model.compile(\n",
    "    optimizer='adam', # SGD is more sensitive to differences of scale\n",
    "    loss='mae',\n",
    "    metrics=['mae'],\n",
    ")\n",
    "history = model.fit(\n",
    "    X_train, y_train,\n",
    "    validation_data=(X_valid, y_valid),\n",
    "    batch_size=64,\n",
    "    epochs=1000,\n",
    "    verbose=0,\n",
    ")\n",
    "\n",
    "history_df = pd.DataFrame(history.history)\n",
    "history_df.loc[0:, ['loss', 'val_loss']].plot()\n",
    "print((\"Minimum Validation Loss: {:0.4f}\").format(history_df['val_loss'].min()))"
   ]
  },
  {
   "cell_type": "code",
   "execution_count": 10,
   "id": "b7208e86",
   "metadata": {
    "execution": {
     "iopub.execute_input": "2023-02-24T08:48:31.115958Z",
     "iopub.status.busy": "2023-02-24T08:48:31.115645Z",
     "iopub.status.idle": "2023-02-24T08:48:31.132149Z",
     "shell.execute_reply": "2023-02-24T08:48:31.131196Z"
    },
    "papermill": {
     "duration": 0.025921,
     "end_time": "2023-02-24T08:48:31.134244",
     "exception": false,
     "start_time": "2023-02-24T08:48:31.108323",
     "status": "completed"
    },
    "tags": []
   },
   "outputs": [
    {
     "data": {
      "text/html": [
       "<div>\n",
       "<style scoped>\n",
       "    .dataframe tbody tr th:only-of-type {\n",
       "        vertical-align: middle;\n",
       "    }\n",
       "\n",
       "    .dataframe tbody tr th {\n",
       "        vertical-align: top;\n",
       "    }\n",
       "\n",
       "    .dataframe thead th {\n",
       "        text-align: right;\n",
       "    }\n",
       "</style>\n",
       "<table border=\"1\" class=\"dataframe\">\n",
       "  <thead>\n",
       "    <tr style=\"text-align: right;\">\n",
       "      <th></th>\n",
       "      <th>loss</th>\n",
       "      <th>mae</th>\n",
       "      <th>val_loss</th>\n",
       "      <th>val_mae</th>\n",
       "    </tr>\n",
       "  </thead>\n",
       "  <tbody>\n",
       "    <tr>\n",
       "      <th>0</th>\n",
       "      <td>65.682541</td>\n",
       "      <td>65.682541</td>\n",
       "      <td>26.619089</td>\n",
       "      <td>26.619089</td>\n",
       "    </tr>\n",
       "    <tr>\n",
       "      <th>1</th>\n",
       "      <td>17.772503</td>\n",
       "      <td>17.772503</td>\n",
       "      <td>16.926910</td>\n",
       "      <td>16.926910</td>\n",
       "    </tr>\n",
       "    <tr>\n",
       "      <th>2</th>\n",
       "      <td>15.126095</td>\n",
       "      <td>15.126095</td>\n",
       "      <td>15.113586</td>\n",
       "      <td>15.113586</td>\n",
       "    </tr>\n",
       "    <tr>\n",
       "      <th>3</th>\n",
       "      <td>11.847162</td>\n",
       "      <td>11.847162</td>\n",
       "      <td>10.526027</td>\n",
       "      <td>10.526027</td>\n",
       "    </tr>\n",
       "    <tr>\n",
       "      <th>4</th>\n",
       "      <td>9.967435</td>\n",
       "      <td>9.967435</td>\n",
       "      <td>11.098292</td>\n",
       "      <td>11.098292</td>\n",
       "    </tr>\n",
       "    <tr>\n",
       "      <th>...</th>\n",
       "      <td>...</td>\n",
       "      <td>...</td>\n",
       "      <td>...</td>\n",
       "      <td>...</td>\n",
       "    </tr>\n",
       "    <tr>\n",
       "      <th>995</th>\n",
       "      <td>1.400573</td>\n",
       "      <td>1.400573</td>\n",
       "      <td>3.662901</td>\n",
       "      <td>3.662901</td>\n",
       "    </tr>\n",
       "    <tr>\n",
       "      <th>996</th>\n",
       "      <td>1.285031</td>\n",
       "      <td>1.285031</td>\n",
       "      <td>3.833877</td>\n",
       "      <td>3.833877</td>\n",
       "    </tr>\n",
       "    <tr>\n",
       "      <th>997</th>\n",
       "      <td>1.296022</td>\n",
       "      <td>1.296022</td>\n",
       "      <td>3.653685</td>\n",
       "      <td>3.653685</td>\n",
       "    </tr>\n",
       "    <tr>\n",
       "      <th>998</th>\n",
       "      <td>1.326507</td>\n",
       "      <td>1.326507</td>\n",
       "      <td>3.771485</td>\n",
       "      <td>3.771485</td>\n",
       "    </tr>\n",
       "    <tr>\n",
       "      <th>999</th>\n",
       "      <td>1.349063</td>\n",
       "      <td>1.349063</td>\n",
       "      <td>3.763699</td>\n",
       "      <td>3.763699</td>\n",
       "    </tr>\n",
       "  </tbody>\n",
       "</table>\n",
       "<p>1000 rows × 4 columns</p>\n",
       "</div>"
      ],
      "text/plain": [
       "          loss        mae   val_loss    val_mae\n",
       "0    65.682541  65.682541  26.619089  26.619089\n",
       "1    17.772503  17.772503  16.926910  16.926910\n",
       "2    15.126095  15.126095  15.113586  15.113586\n",
       "3    11.847162  11.847162  10.526027  10.526027\n",
       "4     9.967435   9.967435  11.098292  11.098292\n",
       "..         ...        ...        ...        ...\n",
       "995   1.400573   1.400573   3.662901   3.662901\n",
       "996   1.285031   1.285031   3.833877   3.833877\n",
       "997   1.296022   1.296022   3.653685   3.653685\n",
       "998   1.326507   1.326507   3.771485   3.771485\n",
       "999   1.349063   1.349063   3.763699   3.763699\n",
       "\n",
       "[1000 rows x 4 columns]"
      ]
     },
     "execution_count": 10,
     "metadata": {},
     "output_type": "execute_result"
    }
   ],
   "source": [
    "history_df"
   ]
  },
  {
   "cell_type": "markdown",
   "id": "5f0a37c4",
   "metadata": {
    "papermill": {
     "duration": 0.006384,
     "end_time": "2023-02-24T08:48:31.147270",
     "exception": false,
     "start_time": "2023-02-24T08:48:31.140886",
     "status": "completed"
    },
    "tags": []
   },
   "source": [
    "Did you end up with a blank graph? Trying to train this network on this dataset will usually fail. Even when it does converge (due to a lucky weight initialization), it tends to converge to a very large number.\n",
    "\n",
    "# 3) Add Batch Normalization Layers\n",
    "\n",
    "Batch normalization can help correct problems like this.\n",
    "\n",
    "Add four `BatchNormalization` layers, one before each of the dense layers. (Remember to move the `input_shape` argument to the new first layer.)"
   ]
  },
  {
   "cell_type": "code",
   "execution_count": 11,
   "id": "c5484e75",
   "metadata": {
    "execution": {
     "iopub.execute_input": "2023-02-24T08:48:31.161600Z",
     "iopub.status.busy": "2023-02-24T08:48:31.161261Z",
     "iopub.status.idle": "2023-02-24T08:48:31.257029Z",
     "shell.execute_reply": "2023-02-24T08:48:31.256139Z"
    },
    "lines_to_next_cell": 0,
    "papermill": {
     "duration": 0.105467,
     "end_time": "2023-02-24T08:48:31.259048",
     "exception": false,
     "start_time": "2023-02-24T08:48:31.153581",
     "status": "completed"
    },
    "tags": []
   },
   "outputs": [
    {
     "data": {
      "application/javascript": [
       "parent.postMessage({\"jupyterEvent\": \"custom.exercise_interaction\", \"data\": {\"outcomeType\": 1, \"valueTowardsCompletion\": 0.25, \"interactionType\": 1, \"questionType\": 2, \"questionId\": \"3_Q3\", \"learnToolsVersion\": \"0.3.4\", \"failureMessage\": \"\", \"exceptionClass\": \"\", \"trace\": \"\"}}, \"*\")"
      ],
      "text/plain": [
       "<IPython.core.display.Javascript object>"
      ]
     },
     "metadata": {},
     "output_type": "display_data"
    },
    {
     "data": {
      "text/markdown": [
       "<span style=\"color:#33cc33\">Correct</span>"
      ],
      "text/plain": [
       "Correct"
      ]
     },
     "metadata": {},
     "output_type": "display_data"
    }
   ],
   "source": [
    "# YOUR CODE HERE: Add a BatchNormalization layer before each Dense layer\n",
    "model = keras.Sequential([\n",
    "    layers.BatchNormalization(input_shape=input_shape),\n",
    "    layers.Dense(512, activation='relu'),\n",
    "    layers.BatchNormalization(),\n",
    "    layers.Dense(512, activation='relu'),\n",
    "    layers.BatchNormalization(),\n",
    "    layers.Dense(512, activation='relu'),\n",
    "    layers.BatchNormalization(),\n",
    "    layers.Dense(1),\n",
    "])\n",
    "\n",
    "# Check your answer\n",
    "q_3.check()"
   ]
  },
  {
   "cell_type": "code",
   "execution_count": 12,
   "id": "4a2eaee1",
   "metadata": {
    "execution": {
     "iopub.execute_input": "2023-02-24T08:48:31.273758Z",
     "iopub.status.busy": "2023-02-24T08:48:31.273477Z",
     "iopub.status.idle": "2023-02-24T08:48:31.278468Z",
     "shell.execute_reply": "2023-02-24T08:48:31.277598Z"
    },
    "papermill": {
     "duration": 0.014975,
     "end_time": "2023-02-24T08:48:31.280725",
     "exception": false,
     "start_time": "2023-02-24T08:48:31.265750",
     "status": "completed"
    },
    "tags": []
   },
   "outputs": [],
   "source": [
    "# Lines below will give you a hint or solution code\n",
    "#q_3.hint()\n",
    "#q_3.solution()"
   ]
  },
  {
   "cell_type": "markdown",
   "id": "586a56de",
   "metadata": {
    "papermill": {
     "duration": 0.006417,
     "end_time": "2023-02-24T08:48:31.293624",
     "exception": false,
     "start_time": "2023-02-24T08:48:31.287207",
     "status": "completed"
    },
    "tags": []
   },
   "source": [
    "Run the next cell to see if batch normalization will let us train the model."
   ]
  },
  {
   "cell_type": "code",
   "execution_count": 13,
   "id": "5c830fa2",
   "metadata": {
    "execution": {
     "iopub.execute_input": "2023-02-24T08:48:31.308166Z",
     "iopub.status.busy": "2023-02-24T08:48:31.307866Z",
     "iopub.status.idle": "2023-02-24T08:48:48.943222Z",
     "shell.execute_reply": "2023-02-24T08:48:48.942251Z"
    },
    "papermill": {
     "duration": 17.645341,
     "end_time": "2023-02-24T08:48:48.945515",
     "exception": false,
     "start_time": "2023-02-24T08:48:31.300174",
     "status": "completed"
    },
    "tags": []
   },
   "outputs": [
    {
     "name": "stdout",
     "output_type": "stream",
     "text": [
      "Minimum Validation Loss: 3.3671\n"
     ]
    },
    {
     "data": {
      "image/png": "[encoded data removed]",
      "text/plain": [
       "<Figure size 640x480 with 1 Axes>"
      ]
     },
     "metadata": {},
     "output_type": "display_data"
    }
   ],
   "source": [
    "model.compile(\n",
    "    optimizer='adam',\n",
    "    loss='mae',\n",
    "    metrics=['mae'],\n",
    ")\n",
    "EPOCHS = 200\n",
    "history = model.fit(\n",
    "    X_train, y_train,\n",
    "    validation_data=(X_valid, y_valid),\n",
    "    batch_size=64,\n",
    "    epochs=EPOCHS,\n",
    "    verbose=0,\n",
    ")\n",
    "\n",
    "history_df = pd.DataFrame(history.history)\n",
    "history_df.loc[0:, ['loss', 'val_loss']].plot()\n",
    "print((\"Minimum Validation Loss: {:0.4f}\").format(history_df['val_loss'].min()))"
   ]
  },
  {
   "cell_type": "markdown",
   "id": "4e708e67",
   "metadata": {
    "papermill": {
     "duration": 0.007194,
     "end_time": "2023-02-24T08:48:48.960348",
     "exception": false,
     "start_time": "2023-02-24T08:48:48.953154",
     "status": "completed"
    },
    "tags": []
   },
   "source": [
    "# 4) Evaluate Batch Normalization\n",
    "\n",
    "Did adding batch normalization help?"
   ]
  },
  {
   "cell_type": "code",
   "execution_count": 14,
   "id": "9c1eb679",
   "metadata": {
    "execution": {
     "iopub.execute_input": "2023-02-24T08:48:48.977710Z",
     "iopub.status.busy": "2023-02-24T08:48:48.976733Z",
     "iopub.status.idle": "2023-02-24T08:48:48.986964Z",
     "shell.execute_reply": "2023-02-24T08:48:48.985927Z"
    },
    "lines_to_next_cell": 0,
    "papermill": {
     "duration": 0.021494,
     "end_time": "2023-02-24T08:48:48.989059",
     "exception": false,
     "start_time": "2023-02-24T08:48:48.967565",
     "status": "completed"
    },
    "tags": []
   },
   "outputs": [
    {
     "data": {
      "application/javascript": [
       "parent.postMessage({\"jupyterEvent\": \"custom.exercise_interaction\", \"data\": {\"outcomeType\": 1, \"valueTowardsCompletion\": 0.25, \"interactionType\": 1, \"questionType\": 4, \"questionId\": \"4_Q4\", \"learnToolsVersion\": \"0.3.4\", \"failureMessage\": \"\", \"exceptionClass\": \"\", \"trace\": \"\"}}, \"*\")"
      ],
      "text/plain": [
       "<IPython.core.display.Javascript object>"
      ]
     },
     "metadata": {},
     "output_type": "display_data"
    },
    {
     "data": {
      "text/markdown": [
       "<span style=\"color:#33cc33\">Correct:</span> \n",
       "\n",
       "\n",
       "You can see that adding batch normalization was a big improvement on the first attempt! By adaptively scaling the data as it passes through the network, batch normalization can let you train models on difficult datasets.\n"
      ],
      "text/plain": [
       "Correct: \n",
       "\n",
       "\n",
       "You can see that adding batch normalization was a big improvement on the first attempt! By adaptively scaling the data as it passes through the network, batch normalization can let you train models on difficult datasets."
      ]
     },
     "metadata": {},
     "output_type": "display_data"
    }
   ],
   "source": [
    "# View the solution (Run this cell to receive credit!)\n",
    "q_4.check()"
   ]
  },
  {
   "cell_type": "markdown",
   "id": "8c04383e",
   "metadata": {
    "papermill": {
     "duration": 0.007693,
     "end_time": "2023-02-24T08:48:49.005737",
     "exception": false,
     "start_time": "2023-02-24T08:48:48.998044",
     "status": "completed"
    },
    "tags": []
   },
   "source": [
    "# Keep Going #\n",
    "\n",
    "[**Create neural networks**](https://www.kaggle.com/ryanholbrook/binary-classification) for binary classification."
   ]
  },
  {
   "cell_type": "markdown",
   "id": "6df1dd33",
   "metadata": {
    "papermill": {
     "duration": 0.008022,
     "end_time": "2023-02-24T08:48:49.021778",
     "exception": false,
     "start_time": "2023-02-24T08:48:49.013756",
     "status": "completed"
    },
    "tags": []
   },
   "source": [
    "---\n",
    "\n",
    "\n",
    "\n",
    "\n",
    "*Have questions or comments? Visit the [course discussion forum](https://www.kaggle.com/learn/intro-to-deep-learning/discussion) to chat with other learners.*"
   ]
  }
 ],
 "metadata": {
  "kernelspec": {
   "display_name": "Python 3",
   "language": "python",
   "name": "python3"
  },
  "language_info": {
   "codemirror_mode": {
    "name": "ipython",
    "version": 3
   },
   "file_extension": ".py",
   "mimetype": "text/x-python",
   "name": "python",
   "nbconvert_exporter": "python",
   "pygments_lexer": "ipython3",
   "version": "3.7.12"
  },
  "papermill": {
   "default_parameters": {},
   "duration": 110.334008,
   "end_time": "2023-02-24T08:48:51.977457",
   "environment_variables": {},
   "exception": null,
   "input_path": "__notebook__.ipynb",
   "output_path": "__notebook__.ipynb",
   "parameters": {},
   "start_time": "2023-02-24T08:47:01.643449",
   "version": "2.3.4"
  }
 },
 "nbformat": 4,
 "nbformat_minor": 5
}
