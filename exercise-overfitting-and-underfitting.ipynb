{
 "cells": [
  {
   "cell_type": "markdown",
   "id": "96f1af12",
   "metadata": {
    "papermill": {
     "duration": 0.006152,
     "end_time": "2023-02-23T23:39:14.189426",
     "exception": false,
     "start_time": "2023-02-23T23:39:14.183274",
     "status": "completed"
    },
    "tags": []
   },
   "source": [
    "**This notebook is an exercise in the [Intro to Deep Learning](https://www.kaggle.com/learn/intro-to-deep-learning) course.  You can reference the tutorial at [this link](https://www.kaggle.com/ryanholbrook/overfitting-and-underfitting).**\n",
    "\n",
    "---\n"
   ]
  },
  {
   "cell_type": "markdown",
   "id": "41c9c97c",
   "metadata": {
    "papermill": {
     "duration": 0.004688,
     "end_time": "2023-02-23T23:39:14.199152",
     "exception": false,
     "start_time": "2023-02-23T23:39:14.194464",
     "status": "completed"
    },
    "tags": []
   },
   "source": [
    "# Introduction #\n",
    "\n",
    "In this exercise, you’ll learn how to improve training outcomes by including an early stopping callback to prevent overfitting.\n",
    "\n",
    "When you're ready, run this next cell to set everything up!"
   ]
  },
  {
   "cell_type": "code",
   "execution_count": 1,
   "id": "b2ed73de",
   "metadata": {
    "execution": {
     "iopub.execute_input": "2023-02-23T23:39:14.211263Z",
     "iopub.status.busy": "2023-02-23T23:39:14.210128Z",
     "iopub.status.idle": "2023-02-23T23:39:14.242411Z",
     "shell.execute_reply": "2023-02-23T23:39:14.241537Z"
    },
    "papermill": {
     "duration": 0.040859,
     "end_time": "2023-02-23T23:39:14.244782",
     "exception": false,
     "start_time": "2023-02-23T23:39:14.203923",
     "status": "completed"
    },
    "tags": []
   },
   "outputs": [],
   "source": [
    "# Setup plotting\n",
    "import matplotlib.pyplot as plt\n",
    "plt.style.use('seaborn-whitegrid')\n",
    "# Set Matplotlib defaults\n",
    "plt.rc('figure', autolayout=True)\n",
    "plt.rc('axes', labelweight='bold', labelsize='large',\n",
    "       titleweight='bold', titlesize=18, titlepad=10)\n",
    "plt.rc('animation', html='html5')\n",
    "\n",
    "# Setup feedback system\n",
    "from learntools.core import binder\n",
    "binder.bind(globals())\n",
    "from learntools.deep_learning_intro.ex4 import *"
   ]
  },
  {
   "cell_type": "markdown",
   "id": "bf62c212",
   "metadata": {
    "papermill": {
     "duration": 0.004558,
     "end_time": "2023-02-23T23:39:14.254138",
     "exception": false,
     "start_time": "2023-02-23T23:39:14.249580",
     "status": "completed"
    },
    "tags": []
   },
   "source": [
    "First load the *Spotify* dataset. Your task will be to predict the popularity of a song based on various audio features, like `'tempo'`, `'danceability'`, and `'mode'`."
   ]
  },
  {
   "cell_type": "code",
   "execution_count": 2,
   "id": "34fdc746",
   "metadata": {
    "execution": {
     "iopub.execute_input": "2023-02-23T23:39:14.265162Z",
     "iopub.status.busy": "2023-02-23T23:39:14.264804Z",
     "iopub.status.idle": "2023-02-23T23:39:21.833554Z",
     "shell.execute_reply": "2023-02-23T23:39:21.831544Z"
    },
    "papermill": {
     "duration": 7.576816,
     "end_time": "2023-02-23T23:39:21.835866",
     "exception": false,
     "start_time": "2023-02-23T23:39:14.259050",
     "status": "completed"
    },
    "tags": []
   },
   "outputs": [
    {
     "name": "stdout",
     "output_type": "stream",
     "text": [
      "Input shape: [18]\n"
     ]
    }
   ],
   "source": [
    "import pandas as pd\n",
    "from sklearn.preprocessing import StandardScaler, OneHotEncoder\n",
    "from sklearn.compose import make_column_transformer\n",
    "from sklearn.model_selection import GroupShuffleSplit\n",
    "\n",
    "from tensorflow import keras\n",
    "from tensorflow.keras import layers\n",
    "from tensorflow.keras import callbacks\n",
    "\n",
    "spotify = pd.read_csv('../input/dl-course-data/spotify.csv')\n",
    "\n",
    "X = spotify.copy().dropna()\n",
    "y = X.pop('track_popularity')\n",
    "artists = X['track_artist']\n",
    "\n",
    "features_num = ['danceability', 'energy', 'key', 'loudness', 'mode',\n",
    "                'speechiness', 'acousticness', 'instrumentalness',\n",
    "                'liveness', 'valence', 'tempo', 'duration_ms']\n",
    "features_cat = ['playlist_genre']\n",
    "\n",
    "preprocessor = make_column_transformer(\n",
    "    (StandardScaler(), features_num),\n",
    "    (OneHotEncoder(), features_cat),\n",
    ")\n",
    "\n",
    "# We'll do a \"grouped\" split to keep all of an artist's songs in one\n",
    "# split or the other. This is to help prevent signal leakage.\n",
    "def group_split(X, y, group, train_size=0.75):\n",
    "    splitter = GroupShuffleSplit(train_size=train_size)\n",
    "    train, test = next(splitter.split(X, y, groups=group))\n",
    "    return (X.iloc[train], X.iloc[test], y.iloc[train], y.iloc[test])\n",
    "\n",
    "X_train, X_valid, y_train, y_valid = group_split(X, y, artists)\n",
    "\n",
    "X_train = preprocessor.fit_transform(X_train)\n",
    "X_valid = preprocessor.transform(X_valid)\n",
    "y_train = y_train / 100 # popularity is on a scale 0-100, so this rescales to 0-1.\n",
    "y_valid = y_valid / 100\n",
    "\n",
    "input_shape = [X_train.shape[1]]\n",
    "print(\"Input shape: {}\".format(input_shape))"
   ]
  },
  {
   "cell_type": "markdown",
   "id": "fea7aa21",
   "metadata": {
    "papermill": {
     "duration": 0.004956,
     "end_time": "2023-02-23T23:39:21.846321",
     "exception": false,
     "start_time": "2023-02-23T23:39:21.841365",
     "status": "completed"
    },
    "tags": []
   },
   "source": [
    "Let's start with the simplest network, a linear model. This model has low capacity.\n",
    "\n",
    "Run this next cell without any changes to train a linear model on the *Spotify* dataset."
   ]
  },
  {
   "cell_type": "code",
   "execution_count": 3,
   "id": "ac96e710",
   "metadata": {
    "execution": {
     "iopub.execute_input": "2023-02-23T23:39:21.858021Z",
     "iopub.status.busy": "2023-02-23T23:39:21.857324Z",
     "iopub.status.idle": "2023-02-23T23:39:21.862332Z",
     "shell.execute_reply": "2023-02-23T23:39:21.861434Z"
    },
    "papermill": {
     "duration": 0.013128,
     "end_time": "2023-02-23T23:39:21.864447",
     "exception": false,
     "start_time": "2023-02-23T23:39:21.851319",
     "status": "completed"
    },
    "tags": []
   },
   "outputs": [],
   "source": [
    "import warnings \n",
    "warnings.filterwarnings('ignore')"
   ]
  },
  {
   "cell_type": "code",
   "execution_count": 4,
   "id": "9b6a2a0b",
   "metadata": {
    "execution": {
     "iopub.execute_input": "2023-02-23T23:39:21.875374Z",
     "iopub.status.busy": "2023-02-23T23:39:21.875105Z",
     "iopub.status.idle": "2023-02-23T23:39:35.737547Z",
     "shell.execute_reply": "2023-02-23T23:39:35.736465Z"
    },
    "lines_to_next_cell": 0,
    "papermill": {
     "duration": 13.871216,
     "end_time": "2023-02-23T23:39:35.740565",
     "exception": false,
     "start_time": "2023-02-23T23:39:21.869349",
     "status": "completed"
    },
    "tags": []
   },
   "outputs": [
    {
     "name": "stdout",
     "output_type": "stream",
     "text": [
      "Minimum Validation Loss: 0.1936\n"
     ]
    },
    {
     "data": {
      "image/png": "[encoded data removed]",
      "text/plain": [
       "<Figure size 640x480 with 1 Axes>"
      ]
     },
     "metadata": {},
     "output_type": "display_data"
    }
   ],
   "source": [
    "model = keras.Sequential([\n",
    "    layers.Dense(1, input_shape=input_shape),\n",
    "])\n",
    "model.compile(\n",
    "    optimizer='adam',\n",
    "    loss='mae',\n",
    ")\n",
    "history = model.fit(\n",
    "    X_train, y_train,\n",
    "    validation_data=(X_valid, y_valid),\n",
    "    batch_size=512,\n",
    "    epochs=50,\n",
    "    verbose=0, # suppress output since we'll plot the curves\n",
    ")\n",
    "history_df = pd.DataFrame(history.history)\n",
    "history_df.loc[0:, ['loss', 'val_loss']].plot()\n",
    "print(\"Minimum Validation Loss: {:0.4f}\".format(history_df['val_loss'].min()));"
   ]
  },
  {
   "cell_type": "markdown",
   "id": "56eef815",
   "metadata": {
    "papermill": {
     "duration": 0.008158,
     "end_time": "2023-02-23T23:39:35.758162",
     "exception": false,
     "start_time": "2023-02-23T23:39:35.750004",
     "status": "completed"
    },
    "tags": []
   },
   "source": [
    "It's not uncommon for the curves to follow a \"hockey stick\" pattern like you see here. This makes the final part of training hard to see, so let's start at epoch 10 instead:"
   ]
  },
  {
   "cell_type": "code",
   "execution_count": 5,
   "id": "6f9594fb",
   "metadata": {
    "execution": {
     "iopub.execute_input": "2023-02-23T23:39:35.777041Z",
     "iopub.status.busy": "2023-02-23T23:39:35.776570Z",
     "iopub.status.idle": "2023-02-23T23:39:36.146097Z",
     "shell.execute_reply": "2023-02-23T23:39:36.144927Z"
    },
    "papermill": {
     "duration": 0.382623,
     "end_time": "2023-02-23T23:39:36.149063",
     "exception": false,
     "start_time": "2023-02-23T23:39:35.766440",
     "status": "completed"
    },
    "tags": []
   },
   "outputs": [
    {
     "name": "stdout",
     "output_type": "stream",
     "text": [
      "Minimum Validation Loss: 0.1936\n"
     ]
    },
    {
     "data": {
      "image/png": "[encoded data removed]",
      "text/plain": [
       "<Figure size 640x480 with 1 Axes>"
      ]
     },
     "metadata": {},
     "output_type": "display_data"
    }
   ],
   "source": [
    "# Start the plot at epoch 10\n",
    "history_df.loc[10:, ['loss', 'val_loss']].plot()\n",
    "print(\"Minimum Validation Loss: {:0.4f}\".format(history_df['val_loss'].min()));"
   ]
  },
  {
   "cell_type": "markdown",
   "id": "16385f10",
   "metadata": {
    "papermill": {
     "duration": 0.00878,
     "end_time": "2023-02-23T23:39:36.167631",
     "exception": false,
     "start_time": "2023-02-23T23:39:36.158851",
     "status": "completed"
    },
    "tags": []
   },
   "source": [
    "# 1) Evaluate Baseline\n",
    "\n",
    "What do you think? Would you say this model is underfitting, overfitting, just right?"
   ]
  },
  {
   "cell_type": "code",
   "execution_count": 6,
   "id": "2414d443",
   "metadata": {
    "execution": {
     "iopub.execute_input": "2023-02-23T23:39:36.186733Z",
     "iopub.status.busy": "2023-02-23T23:39:36.186384Z",
     "iopub.status.idle": "2023-02-23T23:39:36.198504Z",
     "shell.execute_reply": "2023-02-23T23:39:36.197679Z"
    },
    "papermill": {
     "duration": 0.024819,
     "end_time": "2023-02-23T23:39:36.201454",
     "exception": false,
     "start_time": "2023-02-23T23:39:36.176635",
     "status": "completed"
    },
    "tags": []
   },
   "outputs": [
    {
     "data": {
      "application/javascript": [
       "parent.postMessage({\"jupyterEvent\": \"custom.exercise_interaction\", \"data\": {\"outcomeType\": 1, \"valueTowardsCompletion\": 0.25, \"interactionType\": 1, \"questionType\": 4, \"questionId\": \"1_Q1\", \"learnToolsVersion\": \"0.3.4\", \"failureMessage\": \"\", \"exceptionClass\": \"\", \"trace\": \"\"}}, \"*\")"
      ],
      "text/plain": [
       "<IPython.core.display.Javascript object>"
      ]
     },
     "metadata": {},
     "output_type": "display_data"
    },
    {
     "data": {
      "text/markdown": [
       "<span style=\"color:#33cc33\">Correct:</span> \n",
       "\n",
       "The gap between these curves is quite small and the validation loss never increases, so it's more likely that the network is underfitting than overfitting. It would be worth experimenting with more capacity to see if that's the case."
      ],
      "text/plain": [
       "Correct: \n",
       "\n",
       "The gap between these curves is quite small and the validation loss never increases, so it's more likely that the network is underfitting than overfitting. It would be worth experimenting with more capacity to see if that's the case."
      ]
     },
     "metadata": {},
     "output_type": "display_data"
    }
   ],
   "source": [
    "# View the solution (Run this cell to receive credit!)\n",
    "q_1.check()"
   ]
  },
  {
   "cell_type": "code",
   "execution_count": 7,
   "id": "b947dac6",
   "metadata": {
    "execution": {
     "iopub.execute_input": "2023-02-23T23:39:36.222116Z",
     "iopub.status.busy": "2023-02-23T23:39:36.221728Z",
     "iopub.status.idle": "2023-02-23T23:39:36.557599Z",
     "shell.execute_reply": "2023-02-23T23:39:36.556725Z"
    },
    "papermill": {
     "duration": 0.349289,
     "end_time": "2023-02-23T23:39:36.560353",
     "exception": false,
     "start_time": "2023-02-23T23:39:36.211064",
     "status": "completed"
    },
    "tags": []
   },
   "outputs": [
    {
     "data": {
      "text/plain": [
       "<AxesSubplot:>"
      ]
     },
     "execution_count": 7,
     "metadata": {},
     "output_type": "execute_result"
    },
    {
     "data": {
      "image/png": "[encoded data removed]",
      "text/plain": [
       "<Figure size 640x480 with 1 Axes>"
      ]
     },
     "metadata": {},
     "output_type": "display_data"
    }
   ],
   "source": [
    "history_df.plot()"
   ]
  },
  {
   "cell_type": "markdown",
   "id": "a479c944",
   "metadata": {
    "papermill": {
     "duration": 0.009938,
     "end_time": "2023-02-23T23:39:36.581267",
     "exception": false,
     "start_time": "2023-02-23T23:39:36.571329",
     "status": "completed"
    },
    "tags": []
   },
   "source": [
    "Now let's add some capacity to our network. We'll add three hidden layers with 128 units each. Run the next cell to train the network and see the learning curves."
   ]
  },
  {
   "cell_type": "code",
   "execution_count": 8,
   "id": "8c0edd6f",
   "metadata": {
    "execution": {
     "iopub.execute_input": "2023-02-23T23:39:36.603947Z",
     "iopub.status.busy": "2023-02-23T23:39:36.603545Z",
     "iopub.status.idle": "2023-02-23T23:39:45.141788Z",
     "shell.execute_reply": "2023-02-23T23:39:45.140841Z"
    },
    "papermill": {
     "duration": 8.551809,
     "end_time": "2023-02-23T23:39:45.144030",
     "exception": false,
     "start_time": "2023-02-23T23:39:36.592221",
     "status": "completed"
    },
    "tags": []
   },
   "outputs": [
    {
     "name": "stdout",
     "output_type": "stream",
     "text": [
      "Minimum Validation Loss: 0.1938\n"
     ]
    },
    {
     "data": {
      "image/png": "[encoded data removed]",
      "text/plain": [
       "<Figure size 640x480 with 1 Axes>"
      ]
     },
     "metadata": {},
     "output_type": "display_data"
    }
   ],
   "source": [
    "model = keras.Sequential([\n",
    "    layers.Dense(128, activation='relu', input_shape=input_shape),\n",
    "    layers.Dense(64, activation='relu'),\n",
    "    layers.Dense(1)\n",
    "])\n",
    "model.compile(\n",
    "    optimizer='adam',\n",
    "    loss='mae',\n",
    ")\n",
    "history = model.fit(\n",
    "    X_train, y_train,\n",
    "    validation_data=(X_valid, y_valid),\n",
    "    batch_size=512,\n",
    "    epochs=50,\n",
    "    verbose = 0,\n",
    ")\n",
    "history_df = pd.DataFrame(history.history)\n",
    "history_df.loc[:, ['loss', 'val_loss']].plot()\n",
    "print(\"Minimum Validation Loss: {:0.4f}\".format(history_df['val_loss'].min()));"
   ]
  },
  {
   "cell_type": "markdown",
   "id": "f2a16abe",
   "metadata": {
    "papermill": {
     "duration": 0.006988,
     "end_time": "2023-02-23T23:39:45.158602",
     "exception": false,
     "start_time": "2023-02-23T23:39:45.151614",
     "status": "completed"
    },
    "tags": []
   },
   "source": [
    "# 2) Add Capacity\n",
    "\n",
    "What is your evaluation of these curves? Underfitting, overfitting, just right?"
   ]
  },
  {
   "cell_type": "code",
   "execution_count": 9,
   "id": "970fc60f",
   "metadata": {
    "execution": {
     "iopub.execute_input": "2023-02-23T23:39:45.176986Z",
     "iopub.status.busy": "2023-02-23T23:39:45.174705Z",
     "iopub.status.idle": "2023-02-23T23:39:45.185102Z",
     "shell.execute_reply": "2023-02-23T23:39:45.184076Z"
    },
    "papermill": {
     "duration": 0.021169,
     "end_time": "2023-02-23T23:39:45.187150",
     "exception": false,
     "start_time": "2023-02-23T23:39:45.165981",
     "status": "completed"
    },
    "tags": []
   },
   "outputs": [
    {
     "data": {
      "application/javascript": [
       "parent.postMessage({\"jupyterEvent\": \"custom.exercise_interaction\", \"data\": {\"outcomeType\": 1, \"valueTowardsCompletion\": 0.25, \"interactionType\": 1, \"questionType\": 4, \"questionId\": \"2_Q2\", \"learnToolsVersion\": \"0.3.4\", \"failureMessage\": \"\", \"exceptionClass\": \"\", \"trace\": \"\"}}, \"*\")"
      ],
      "text/plain": [
       "<IPython.core.display.Javascript object>"
      ]
     },
     "metadata": {},
     "output_type": "display_data"
    },
    {
     "data": {
      "text/markdown": [
       "<span style=\"color:#33cc33\">Correct:</span> \n",
       "\n",
       "Now the validation loss begins to rise very early, while the training loss continues to decrease. This indicates that the network has begun to overfit. At this point, we would need to try something to prevent it, either by reducing the number of units or through a method like early stopping. (We'll see another in the next lesson!)"
      ],
      "text/plain": [
       "Correct: \n",
       "\n",
       "Now the validation loss begins to rise very early, while the training loss continues to decrease. This indicates that the network has begun to overfit. At this point, we would need to try something to prevent it, either by reducing the number of units or through a method like early stopping. (We'll see another in the next lesson!)"
      ]
     },
     "metadata": {},
     "output_type": "display_data"
    }
   ],
   "source": [
    "# View the solution (Run this cell to receive credit!)\n",
    "q_2.check()"
   ]
  },
  {
   "cell_type": "markdown",
   "id": "48520433",
   "metadata": {
    "papermill": {
     "duration": 0.007074,
     "end_time": "2023-02-23T23:39:45.201863",
     "exception": false,
     "start_time": "2023-02-23T23:39:45.194789",
     "status": "completed"
    },
    "tags": []
   },
   "source": [
    "# 3) Define Early Stopping Callback\n",
    "\n",
    "Now define an early stopping callback that waits 5 epochs (`patience'`) for a change in validation loss of at least `0.001` (`min_delta`) and keeps the weights with the best loss (`restore_best_weights`)."
   ]
  },
  {
   "cell_type": "code",
   "execution_count": 10,
   "id": "4fa35125",
   "metadata": {
    "execution": {
     "iopub.execute_input": "2023-02-23T23:39:45.219438Z",
     "iopub.status.busy": "2023-02-23T23:39:45.217479Z",
     "iopub.status.idle": "2023-02-23T23:39:45.229730Z",
     "shell.execute_reply": "2023-02-23T23:39:45.228799Z"
    },
    "lines_to_next_cell": 0,
    "papermill": {
     "duration": 0.022751,
     "end_time": "2023-02-23T23:39:45.231849",
     "exception": false,
     "start_time": "2023-02-23T23:39:45.209098",
     "status": "completed"
    },
    "tags": []
   },
   "outputs": [
    {
     "data": {
      "application/javascript": [
       "parent.postMessage({\"jupyterEvent\": \"custom.exercise_interaction\", \"data\": {\"outcomeType\": 1, \"valueTowardsCompletion\": 0.25, \"interactionType\": 1, \"questionType\": 2, \"questionId\": \"3_Q3\", \"learnToolsVersion\": \"0.3.4\", \"failureMessage\": \"\", \"exceptionClass\": \"\", \"trace\": \"\"}}, \"*\")"
      ],
      "text/plain": [
       "<IPython.core.display.Javascript object>"
      ]
     },
     "metadata": {},
     "output_type": "display_data"
    },
    {
     "data": {
      "text/markdown": [
       "<span style=\"color:#33cc33\">Correct</span>"
      ],
      "text/plain": [
       "Correct"
      ]
     },
     "metadata": {},
     "output_type": "display_data"
    }
   ],
   "source": [
    "from tensorflow.keras import callbacks\n",
    "\n",
    "# YOUR CODE HERE: define an early stopping callback\n",
    "early_stopping = callbacks.EarlyStopping(\n",
    "    min_delta = 0.001,\n",
    "    patience = 5,\n",
    "    restore_best_weights = True\n",
    ")\n",
    "\n",
    "# Check your answer\n",
    "q_3.check()"
   ]
  },
  {
   "cell_type": "code",
   "execution_count": 11,
   "id": "4e6982d0",
   "metadata": {
    "execution": {
     "iopub.execute_input": "2023-02-23T23:39:45.249471Z",
     "iopub.status.busy": "2023-02-23T23:39:45.249136Z",
     "iopub.status.idle": "2023-02-23T23:39:45.254852Z",
     "shell.execute_reply": "2023-02-23T23:39:45.253952Z"
    },
    "papermill": {
     "duration": 0.016811,
     "end_time": "2023-02-23T23:39:45.256843",
     "exception": false,
     "start_time": "2023-02-23T23:39:45.240032",
     "status": "completed"
    },
    "tags": []
   },
   "outputs": [],
   "source": [
    "# Lines below will give you a hint or solution code\n",
    "#q_3.hint()\n",
    "#q_3.solution()"
   ]
  },
  {
   "cell_type": "markdown",
   "id": "d9a86523",
   "metadata": {
    "papermill": {
     "duration": 0.007281,
     "end_time": "2023-02-23T23:39:45.271903",
     "exception": false,
     "start_time": "2023-02-23T23:39:45.264622",
     "status": "completed"
    },
    "tags": []
   },
   "source": [
    "Now run this cell to train the model and get the learning curves. Notice the `callbacks` argument in `model.fit`."
   ]
  },
  {
   "cell_type": "code",
   "execution_count": 12,
   "id": "eb9ec30c",
   "metadata": {
    "execution": {
     "iopub.execute_input": "2023-02-23T23:39:45.287858Z",
     "iopub.status.busy": "2023-02-23T23:39:45.287539Z",
     "iopub.status.idle": "2023-02-23T23:39:48.384885Z",
     "shell.execute_reply": "2023-02-23T23:39:48.383877Z"
    },
    "papermill": {
     "duration": 3.107834,
     "end_time": "2023-02-23T23:39:48.387115",
     "exception": false,
     "start_time": "2023-02-23T23:39:45.279281",
     "status": "completed"
    },
    "tags": []
   },
   "outputs": [
    {
     "name": "stdout",
     "output_type": "stream",
     "text": [
      "Epoch 1/50\n",
      "49/49 [==============================] - 1s 6ms/step - loss: 0.2496 - val_loss: 0.2066\n",
      "Epoch 2/50\n",
      "49/49 [==============================] - 0s 4ms/step - loss: 0.2046 - val_loss: 0.2001\n",
      "Epoch 3/50\n",
      "49/49 [==============================] - 0s 4ms/step - loss: 0.1979 - val_loss: 0.1973\n",
      "Epoch 4/50\n",
      "49/49 [==============================] - 0s 3ms/step - loss: 0.1946 - val_loss: 0.1961\n",
      "Epoch 5/50\n",
      "49/49 [==============================] - 0s 3ms/step - loss: 0.1920 - val_loss: 0.1953\n",
      "Epoch 6/50\n",
      "49/49 [==============================] - 0s 3ms/step - loss: 0.1904 - val_loss: 0.1959\n",
      "Epoch 7/50\n",
      "49/49 [==============================] - 0s 4ms/step - loss: 0.1888 - val_loss: 0.1954\n",
      "Epoch 8/50\n",
      "49/49 [==============================] - 0s 3ms/step - loss: 0.1876 - val_loss: 0.1949\n",
      "Epoch 9/50\n",
      "49/49 [==============================] - 0s 4ms/step - loss: 0.1865 - val_loss: 0.1950\n",
      "Epoch 10/50\n",
      "49/49 [==============================] - 0s 3ms/step - loss: 0.1856 - val_loss: 0.1956\n",
      "Epoch 11/50\n",
      "49/49 [==============================] - 0s 3ms/step - loss: 0.1847 - val_loss: 0.1965\n",
      "Epoch 12/50\n",
      "49/49 [==============================] - 0s 3ms/step - loss: 0.1843 - val_loss: 0.1958\n",
      "Epoch 13/50\n",
      "49/49 [==============================] - 0s 3ms/step - loss: 0.1835 - val_loss: 0.1966\n",
      "Minimum Validation Loss: 0.1949\n"
     ]
    },
    {
     "data": {
      "image/png": "[encoded data removed]",
      "text/plain": [
       "<Figure size 640x480 with 1 Axes>"
      ]
     },
     "metadata": {},
     "output_type": "display_data"
    }
   ],
   "source": [
    "model = keras.Sequential([\n",
    "    layers.Dense(128, activation='relu', input_shape=input_shape),\n",
    "    layers.Dense(64, activation='relu'),    \n",
    "    layers.Dense(1)\n",
    "])\n",
    "model.compile(\n",
    "    optimizer='adam',\n",
    "    loss='mae',\n",
    ")\n",
    "history = model.fit(\n",
    "    X_train, y_train,\n",
    "    validation_data=(X_valid, y_valid),\n",
    "    batch_size=512,\n",
    "    epochs=50,\n",
    "    callbacks=[early_stopping]\n",
    ")\n",
    "history_df = pd.DataFrame(history.history)\n",
    "history_df.loc[:, ['loss', 'val_loss']].plot()\n",
    "print(\"Minimum Validation Loss: {:0.4f}\".format(history_df['val_loss'].min()));"
   ]
  },
  {
   "cell_type": "markdown",
   "id": "cb522041",
   "metadata": {
    "papermill": {
     "duration": 0.01264,
     "end_time": "2023-02-23T23:39:48.412762",
     "exception": false,
     "start_time": "2023-02-23T23:39:48.400122",
     "status": "completed"
    },
    "tags": []
   },
   "source": [
    "# 4) Train and Interpret\n",
    "\n",
    "Was this an improvement compared to training without early stopping?"
   ]
  },
  {
   "cell_type": "code",
   "execution_count": null,
   "id": "544328f1",
   "metadata": {
    "papermill": {
     "duration": 0.011758,
     "end_time": "2023-02-23T23:39:48.437568",
     "exception": false,
     "start_time": "2023-02-23T23:39:48.425810",
     "status": "completed"
    },
    "tags": []
   },
   "outputs": [],
   "source": []
  },
  {
   "cell_type": "code",
   "execution_count": 13,
   "id": "733c2d16",
   "metadata": {
    "execution": {
     "iopub.execute_input": "2023-02-23T23:39:48.462524Z",
     "iopub.status.busy": "2023-02-23T23:39:48.462148Z",
     "iopub.status.idle": "2023-02-23T23:39:48.469864Z",
     "shell.execute_reply": "2023-02-23T23:39:48.468962Z"
    },
    "papermill": {
     "duration": 0.022594,
     "end_time": "2023-02-23T23:39:48.471812",
     "exception": false,
     "start_time": "2023-02-23T23:39:48.449218",
     "status": "completed"
    },
    "tags": []
   },
   "outputs": [
    {
     "data": {
      "application/javascript": [
       "parent.postMessage({\"jupyterEvent\": \"custom.exercise_interaction\", \"data\": {\"outcomeType\": 1, \"valueTowardsCompletion\": 0.25, \"interactionType\": 1, \"questionType\": 4, \"questionId\": \"4_Q4\", \"learnToolsVersion\": \"0.3.4\", \"failureMessage\": \"\", \"exceptionClass\": \"\", \"trace\": \"\"}}, \"*\")"
      ],
      "text/plain": [
       "<IPython.core.display.Javascript object>"
      ]
     },
     "metadata": {},
     "output_type": "display_data"
    },
    {
     "data": {
      "text/markdown": [
       "<span style=\"color:#33cc33\">Correct:</span> \n",
       "\n",
       "The early stopping callback did stop the training once the network began overfitting. Moreover, by including `restore_best_weights` we still get to keep the model where validation loss was lowest."
      ],
      "text/plain": [
       "Correct: \n",
       "\n",
       "The early stopping callback did stop the training once the network began overfitting. Moreover, by including `restore_best_weights` we still get to keep the model where validation loss was lowest."
      ]
     },
     "metadata": {},
     "output_type": "display_data"
    }
   ],
   "source": [
    "# View the solution (Run this cell to receive credit!)\n",
    "q_4.check()"
   ]
  },
  {
   "cell_type": "markdown",
   "id": "7e173520",
   "metadata": {
    "papermill": {
     "duration": 0.011266,
     "end_time": "2023-02-23T23:39:48.494534",
     "exception": false,
     "start_time": "2023-02-23T23:39:48.483268",
     "status": "completed"
    },
    "tags": []
   },
   "source": [
    "If you like, try experimenting with `patience` and `min_delta` to see what difference it might make.\n",
    "\n",
    "# Keep Going #\n",
    "\n",
    "Move on to [**learn about a couple of special layers**](https://www.kaggle.com/ryanholbrook/dropout-and-batch-normalization): batch normalization and dropout."
   ]
  },
  {
   "cell_type": "markdown",
   "id": "941a4ee7",
   "metadata": {
    "papermill": {
     "duration": 0.011536,
     "end_time": "2023-02-23T23:39:48.517690",
     "exception": false,
     "start_time": "2023-02-23T23:39:48.506154",
     "status": "completed"
    },
    "tags": []
   },
   "source": [
    "---\n",
    "\n",
    "\n",
    "\n",
    "\n",
    "*Have questions or comments? Visit the [course discussion forum](https://www.kaggle.com/learn/intro-to-deep-learning/discussion) to chat with other learners.*"
   ]
  }
 ],
 "metadata": {
  "kernelspec": {
   "display_name": "Python 3",
   "language": "python",
   "name": "python3"
  },
  "language_info": {
   "codemirror_mode": {
    "name": "ipython",
    "version": 3
   },
   "file_extension": ".py",
   "mimetype": "text/x-python",
   "name": "python",
   "nbconvert_exporter": "python",
   "pygments_lexer": "ipython3",
   "version": "3.7.12"
  },
  "papermill": {
   "default_parameters": {},
   "duration": 45.342238,
   "end_time": "2023-02-23T23:39:51.643564",
   "environment_variables": {},
   "exception": null,
   "input_path": "__notebook__.ipynb",
   "output_path": "__notebook__.ipynb",
   "parameters": {},
   "start_time": "2023-02-23T23:39:06.301326",
   "version": "2.3.4"
  }
 },
 "nbformat": 4,
 "nbformat_minor": 5
}
